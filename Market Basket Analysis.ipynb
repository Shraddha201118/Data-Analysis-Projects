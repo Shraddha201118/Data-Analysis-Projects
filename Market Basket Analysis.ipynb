{
 "cells": [
  {
   "cell_type": "code",
   "execution_count": 14,
   "id": "142b4ff6-4ad1-494e-9fb4-93eedcdc56fd",
   "metadata": {},
   "outputs": [],
   "source": [
    "import pandas as pd\n",
    "import plotly.express as px\n",
    "import plotly.io as pio\n",
    "import plotly.graph_objects as go\n",
    "pio.templates.default = \"plotly_white\""
   ]
  },
  {
   "cell_type": "code",
   "execution_count": 15,
   "id": "d3e618a0-2462-4dc3-9760-d4e63b0d5457",
   "metadata": {},
   "outputs": [
    {
     "name": "stdout",
     "output_type": "stream",
     "text": [
      "   BillNo  Itemname  Quantity  Price  CustomerID\n",
      "0    1000    Apples         5   8.30       52299\n",
      "1    1000    Butter         4   6.06       11752\n",
      "2    1000      Eggs         4   2.66       16415\n",
      "3    1000  Potatoes         4   8.10       22889\n",
      "4    1004   Oranges         2   7.26       52255\n"
     ]
    }
   ],
   "source": [
    "data = pd.read_csv(\"market_basket_dataset.csv\")\n",
    "print(data.head())"
   ]
  },
  {
   "cell_type": "code",
   "execution_count": 16,
   "id": "baf40d42-e2fe-4a7c-8ee4-b42c40df4b8e",
   "metadata": {},
   "outputs": [
    {
     "name": "stdout",
     "output_type": "stream",
     "text": [
      "BillNo        0\n",
      "Itemname      0\n",
      "Quantity      0\n",
      "Price         0\n",
      "CustomerID    0\n",
      "dtype: int64\n"
     ]
    }
   ],
   "source": [
    "print(data.isnull().sum())"
   ]
  },
  {
   "cell_type": "code",
   "execution_count": 17,
   "id": "3559f84b-459a-4a3a-8f63-027ca1600f16",
   "metadata": {},
   "outputs": [
    {
     "name": "stdout",
     "output_type": "stream",
     "text": [
      "            BillNo    Quantity       Price    CustomerID\n",
      "count   500.000000  500.000000  500.000000    500.000000\n",
      "mean   1247.442000    2.978000    5.617660  54229.800000\n",
      "std     144.483097    1.426038    2.572919  25672.122585\n",
      "min    1000.000000    1.000000    1.040000  10504.000000\n",
      "25%    1120.000000    2.000000    3.570000  32823.500000\n",
      "50%    1246.500000    3.000000    5.430000  53506.500000\n",
      "75%    1370.000000    4.000000    7.920000  76644.250000\n",
      "max    1497.000000    5.000000    9.940000  99162.000000\n"
     ]
    }
   ],
   "source": [
    "print(data.describe())"
   ]
  },
  {
   "cell_type": "code",
   "execution_count": 18,
   "id": "e3a3055f-94fa-4c8e-9d55-7a04c2816bfd",
   "metadata": {},
   "outputs": [
    {
     "data": {
      "application/vnd.plotly.v1+json": {
       "config": {
        "plotlyServerURL": "https://plot.ly"
       },
       "data": [
        {
         "alignmentgroup": "True",
         "bingroup": "x",
         "hovertemplate": "Itemname=%{x}<br>count=%{y}<extra></extra>",
         "legendgroup": "",
         "marker": {
          "color": "#636efa",
          "pattern": {
           "shape": ""
          }
         },
         "name": "",
         "offsetgroup": "",
         "orientation": "v",
         "showlegend": false,
         "type": "histogram",
         "x": [
          "Apples",
          "Butter",
          "Eggs",
          "Potatoes",
          "Oranges",
          "Milk",
          "Onions",
          "Cereal",
          "Tomatoes",
          "Potatoes",
          "Cereal",
          "Bananas",
          "Tomatoes",
          "Pasta",
          "Onions",
          "Bread",
          "Bananas",
          "Coffee",
          "Sugar",
          "Potatoes",
          "Oranges",
          "Bananas",
          "Oranges",
          "Potatoes",
          "Chicken",
          "Cereal",
          "Bananas",
          "Cheese",
          "Pasta",
          "Cereal",
          "Onions",
          "Bananas",
          "Chicken",
          "Sugar",
          "Eggs",
          "Onions",
          "Cereal",
          "Cheese",
          "Cereal",
          "Coffee",
          "Bread",
          "Onions",
          "Chicken",
          "Pasta",
          "Eggs",
          "Butter",
          "Bananas",
          "Chicken",
          "Tomatoes",
          "Tea",
          "Bananas",
          "Pasta",
          "Eggs",
          "Cereal",
          "Sugar",
          "Coffee",
          "Apples",
          "Tomatoes",
          "Chicken",
          "Pasta",
          "Bread",
          "Sugar",
          "Potatoes",
          "Yogurt",
          "Butter",
          "Bananas",
          "Milk",
          "Eggs",
          "Sugar",
          "Juice",
          "Tomatoes",
          "Butter",
          "Onions",
          "Coffee",
          "Bananas",
          "Onions",
          "Coffee",
          "Tea",
          "Bananas",
          "Onions",
          "Juice",
          "Pasta",
          "Tea",
          "Juice",
          "Cereal",
          "Butter",
          "Yogurt",
          "Juice",
          "Pasta",
          "Onions",
          "Chicken",
          "Tea",
          "Juice",
          "Potatoes",
          "Sugar",
          "Coffee",
          "Milk",
          "Tomatoes",
          "Apples",
          "Yogurt",
          "Eggs",
          "Pasta",
          "Bread",
          "Apples",
          "Butter",
          "Apples",
          "Tea",
          "Juice",
          "Butter",
          "Eggs",
          "Tomatoes",
          "Milk",
          "Milk",
          "Bananas",
          "Oranges",
          "Bananas",
          "Apples",
          "Yogurt",
          "Sugar",
          "Tomatoes",
          "Bread",
          "Bananas",
          "Potatoes",
          "Tomatoes",
          "Onions",
          "Milk",
          "Oranges",
          "Milk",
          "Yogurt",
          "Oranges",
          "Coffee",
          "Bread",
          "Juice",
          "Tomatoes",
          "Eggs",
          "Potatoes",
          "Bananas",
          "Milk",
          "Butter",
          "Bananas",
          "Onions",
          "Eggs",
          "Juice",
          "Cheese",
          "Cheese",
          "Oranges",
          "Tomatoes",
          "Yogurt",
          "Potatoes",
          "Juice",
          "Sugar",
          "Bananas",
          "Eggs",
          "Tea",
          "Yogurt",
          "Eggs",
          "Butter",
          "Oranges",
          "Bread",
          "Potatoes",
          "Cheese",
          "Sugar",
          "Apples",
          "Tomatoes",
          "Milk",
          "Cheese",
          "Oranges",
          "Yogurt",
          "Tea",
          "Cereal",
          "Cheese",
          "Cereal",
          "Pasta",
          "Bananas",
          "Coffee",
          "Yogurt",
          "Cereal",
          "Butter",
          "Chicken",
          "Juice",
          "Oranges",
          "Potatoes",
          "Tomatoes",
          "Coffee",
          "Bread",
          "Cereal",
          "Juice",
          "Tea",
          "Coffee",
          "Pasta",
          "Onions",
          "Cheese",
          "Tea",
          "Apples",
          "Oranges",
          "Tea",
          "Cereal",
          "Onions",
          "Juice",
          "Cheese",
          "Tea",
          "Cereal",
          "Yogurt",
          "Bananas",
          "Yogurt",
          "Bananas",
          "Sugar",
          "Tomatoes",
          "Chicken",
          "Butter",
          "Potatoes",
          "Tea",
          "Milk",
          "Oranges",
          "Apples",
          "Tomatoes",
          "Sugar",
          "Tomatoes",
          "Cheese",
          "Oranges",
          "Tea",
          "Yogurt",
          "Yogurt",
          "Oranges",
          "Coffee",
          "Yogurt",
          "Juice",
          "Potatoes",
          "Coffee",
          "Tea",
          "Bananas",
          "Sugar",
          "Coffee",
          "Butter",
          "Tea",
          "Butter",
          "Tomatoes",
          "Apples",
          "Bread",
          "Cheese",
          "Sugar",
          "Onions",
          "Potatoes",
          "Cheese",
          "Bananas",
          "Butter",
          "Cereal",
          "Potatoes",
          "Tea",
          "Bread",
          "Milk",
          "Oranges",
          "Cereal",
          "Bananas",
          "Onions",
          "Cheese",
          "Apples",
          "Eggs",
          "Milk",
          "Potatoes",
          "Cereal",
          "Pasta",
          "Oranges",
          "Chicken",
          "Bread",
          "Cheese",
          "Sugar",
          "Milk",
          "Tomatoes",
          "Cereal",
          "Chicken",
          "Coffee",
          "Cheese",
          "Juice",
          "Tea",
          "Eggs",
          "Potatoes",
          "Butter",
          "Bananas",
          "Eggs",
          "Cheese",
          "Bananas",
          "Juice",
          "Eggs",
          "Tomatoes",
          "Apples",
          "Potatoes",
          "Cheese",
          "Bananas",
          "Sugar",
          "Coffee",
          "Bread",
          "Apples",
          "Bananas",
          "Apples",
          "Milk",
          "Sugar",
          "Coffee",
          "Cereal",
          "Cheese",
          "Oranges",
          "Cheese",
          "Oranges",
          "Milk",
          "Onions",
          "Potatoes",
          "Coffee",
          "Cereal",
          "Tea",
          "Bread",
          "Pasta",
          "Eggs",
          "Coffee",
          "Yogurt",
          "Coffee",
          "Butter",
          "Eggs",
          "Onions",
          "Cereal",
          "Cheese",
          "Butter",
          "Apples",
          "Cheese",
          "Tea",
          "Bread",
          "Cereal",
          "Pasta",
          "Coffee",
          "Sugar",
          "Yogurt",
          "Milk",
          "Chicken",
          "Juice",
          "Pasta",
          "Oranges",
          "Cheese",
          "Coffee",
          "Tomatoes",
          "Bread",
          "Cereal",
          "Cheese",
          "Tomatoes",
          "Oranges",
          "Milk",
          "Tomatoes",
          "Cereal",
          "Apples",
          "Butter",
          "Onions",
          "Yogurt",
          "Milk",
          "Pasta",
          "Onions",
          "Tea",
          "Sugar",
          "Cheese",
          "Juice",
          "Coffee",
          "Onions",
          "Chicken",
          "Potatoes",
          "Apples",
          "Sugar",
          "Bread",
          "Yogurt",
          "Juice",
          "Coffee",
          "Apples",
          "Coffee",
          "Butter",
          "Bread",
          "Oranges",
          "Cheese",
          "Butter",
          "Tea",
          "Bananas",
          "Milk",
          "Onions",
          "Coffee",
          "Eggs",
          "Bananas",
          "Juice",
          "Eggs",
          "Sugar",
          "Coffee",
          "Apples",
          "Tea",
          "Apples",
          "Chicken",
          "Pasta",
          "Sugar",
          "Yogurt",
          "Apples",
          "Sugar",
          "Pasta",
          "Coffee",
          "Bread",
          "Milk",
          "Yogurt",
          "Yogurt",
          "Chicken",
          "Oranges",
          "Bread",
          "Butter",
          "Oranges",
          "Apples",
          "Chicken",
          "Eggs",
          "Cereal",
          "Sugar",
          "Tea",
          "Coffee",
          "Potatoes",
          "Eggs",
          "Cereal",
          "Pasta",
          "Pasta",
          "Butter",
          "Chicken",
          "Potatoes",
          "Bananas",
          "Tomatoes",
          "Eggs",
          "Apples",
          "Milk",
          "Tomatoes",
          "Cheese",
          "Onions",
          "Sugar",
          "Coffee",
          "Cereal",
          "Yogurt",
          "Sugar",
          "Tomatoes",
          "Eggs",
          "Bananas",
          "Eggs",
          "Tomatoes",
          "Eggs",
          "Cereal",
          "Pasta",
          "Bananas",
          "Bananas",
          "Cereal",
          "Onions",
          "Chicken",
          "Potatoes",
          "Bananas",
          "Cereal",
          "Bananas",
          "Juice",
          "Milk",
          "Oranges",
          "Butter",
          "Apples",
          "Bread",
          "Yogurt",
          "Oranges",
          "Sugar",
          "Potatoes",
          "Pasta",
          "Oranges",
          "Potatoes",
          "Yogurt",
          "Oranges",
          "Cheese",
          "Apples",
          "Milk",
          "Potatoes",
          "Coffee",
          "Yogurt",
          "Butter",
          "Bread",
          "Cereal",
          "Cheese",
          "Bananas",
          "Yogurt",
          "Pasta",
          "Chicken",
          "Juice",
          "Eggs",
          "Oranges",
          "Coffee",
          "Tomatoes",
          "Coffee",
          "Bread",
          "Juice",
          "Bananas",
          "Chicken",
          "Butter",
          "Oranges",
          "Milk",
          "Potatoes",
          "Chicken",
          "Bananas",
          "Juice",
          "Bread",
          "Coffee",
          "Pasta",
          "Eggs"
         ],
         "xaxis": "x",
         "yaxis": "y"
        }
       ],
       "layout": {
        "autosize": true,
        "barmode": "relative",
        "legend": {
         "tracegroupgap": 0
        },
        "template": {
         "data": {
          "bar": [
           {
            "error_x": {
             "color": "#2a3f5f"
            },
            "error_y": {
             "color": "#2a3f5f"
            },
            "marker": {
             "line": {
              "color": "white",
              "width": 0.5
             },
             "pattern": {
              "fillmode": "overlay",
              "size": 10,
              "solidity": 0.2
             }
            },
            "type": "bar"
           }
          ],
          "barpolar": [
           {
            "marker": {
             "line": {
              "color": "white",
              "width": 0.5
             },
             "pattern": {
              "fillmode": "overlay",
              "size": 10,
              "solidity": 0.2
             }
            },
            "type": "barpolar"
           }
          ],
          "carpet": [
           {
            "aaxis": {
             "endlinecolor": "#2a3f5f",
             "gridcolor": "#C8D4E3",
             "linecolor": "#C8D4E3",
             "minorgridcolor": "#C8D4E3",
             "startlinecolor": "#2a3f5f"
            },
            "baxis": {
             "endlinecolor": "#2a3f5f",
             "gridcolor": "#C8D4E3",
             "linecolor": "#C8D4E3",
             "minorgridcolor": "#C8D4E3",
             "startlinecolor": "#2a3f5f"
            },
            "type": "carpet"
           }
          ],
          "choropleth": [
           {
            "colorbar": {
             "outlinewidth": 0,
             "ticks": ""
            },
            "type": "choropleth"
           }
          ],
          "contour": [
           {
            "colorbar": {
             "outlinewidth": 0,
             "ticks": ""
            },
            "colorscale": [
             [
              0,
              "#0d0887"
             ],
             [
              0.1111111111111111,
              "#46039f"
             ],
             [
              0.2222222222222222,
              "#7201a8"
             ],
             [
              0.3333333333333333,
              "#9c179e"
             ],
             [
              0.4444444444444444,
              "#bd3786"
             ],
             [
              0.5555555555555556,
              "#d8576b"
             ],
             [
              0.6666666666666666,
              "#ed7953"
             ],
             [
              0.7777777777777778,
              "#fb9f3a"
             ],
             [
              0.8888888888888888,
              "#fdca26"
             ],
             [
              1,
              "#f0f921"
             ]
            ],
            "type": "contour"
           }
          ],
          "contourcarpet": [
           {
            "colorbar": {
             "outlinewidth": 0,
             "ticks": ""
            },
            "type": "contourcarpet"
           }
          ],
          "heatmap": [
           {
            "colorbar": {
             "outlinewidth": 0,
             "ticks": ""
            },
            "colorscale": [
             [
              0,
              "#0d0887"
             ],
             [
              0.1111111111111111,
              "#46039f"
             ],
             [
              0.2222222222222222,
              "#7201a8"
             ],
             [
              0.3333333333333333,
              "#9c179e"
             ],
             [
              0.4444444444444444,
              "#bd3786"
             ],
             [
              0.5555555555555556,
              "#d8576b"
             ],
             [
              0.6666666666666666,
              "#ed7953"
             ],
             [
              0.7777777777777778,
              "#fb9f3a"
             ],
             [
              0.8888888888888888,
              "#fdca26"
             ],
             [
              1,
              "#f0f921"
             ]
            ],
            "type": "heatmap"
           }
          ],
          "heatmapgl": [
           {
            "colorbar": {
             "outlinewidth": 0,
             "ticks": ""
            },
            "colorscale": [
             [
              0,
              "#0d0887"
             ],
             [
              0.1111111111111111,
              "#46039f"
             ],
             [
              0.2222222222222222,
              "#7201a8"
             ],
             [
              0.3333333333333333,
              "#9c179e"
             ],
             [
              0.4444444444444444,
              "#bd3786"
             ],
             [
              0.5555555555555556,
              "#d8576b"
             ],
             [
              0.6666666666666666,
              "#ed7953"
             ],
             [
              0.7777777777777778,
              "#fb9f3a"
             ],
             [
              0.8888888888888888,
              "#fdca26"
             ],
             [
              1,
              "#f0f921"
             ]
            ],
            "type": "heatmapgl"
           }
          ],
          "histogram": [
           {
            "marker": {
             "pattern": {
              "fillmode": "overlay",
              "size": 10,
              "solidity": 0.2
             }
            },
            "type": "histogram"
           }
          ],
          "histogram2d": [
           {
            "colorbar": {
             "outlinewidth": 0,
             "ticks": ""
            },
            "colorscale": [
             [
              0,
              "#0d0887"
             ],
             [
              0.1111111111111111,
              "#46039f"
             ],
             [
              0.2222222222222222,
              "#7201a8"
             ],
             [
              0.3333333333333333,
              "#9c179e"
             ],
             [
              0.4444444444444444,
              "#bd3786"
             ],
             [
              0.5555555555555556,
              "#d8576b"
             ],
             [
              0.6666666666666666,
              "#ed7953"
             ],
             [
              0.7777777777777778,
              "#fb9f3a"
             ],
             [
              0.8888888888888888,
              "#fdca26"
             ],
             [
              1,
              "#f0f921"
             ]
            ],
            "type": "histogram2d"
           }
          ],
          "histogram2dcontour": [
           {
            "colorbar": {
             "outlinewidth": 0,
             "ticks": ""
            },
            "colorscale": [
             [
              0,
              "#0d0887"
             ],
             [
              0.1111111111111111,
              "#46039f"
             ],
             [
              0.2222222222222222,
              "#7201a8"
             ],
             [
              0.3333333333333333,
              "#9c179e"
             ],
             [
              0.4444444444444444,
              "#bd3786"
             ],
             [
              0.5555555555555556,
              "#d8576b"
             ],
             [
              0.6666666666666666,
              "#ed7953"
             ],
             [
              0.7777777777777778,
              "#fb9f3a"
             ],
             [
              0.8888888888888888,
              "#fdca26"
             ],
             [
              1,
              "#f0f921"
             ]
            ],
            "type": "histogram2dcontour"
           }
          ],
          "mesh3d": [
           {
            "colorbar": {
             "outlinewidth": 0,
             "ticks": ""
            },
            "type": "mesh3d"
           }
          ],
          "parcoords": [
           {
            "line": {
             "colorbar": {
              "outlinewidth": 0,
              "ticks": ""
             }
            },
            "type": "parcoords"
           }
          ],
          "pie": [
           {
            "automargin": true,
            "type": "pie"
           }
          ],
          "scatter": [
           {
            "fillpattern": {
             "fillmode": "overlay",
             "size": 10,
             "solidity": 0.2
            },
            "type": "scatter"
           }
          ],
          "scatter3d": [
           {
            "line": {
             "colorbar": {
              "outlinewidth": 0,
              "ticks": ""
             }
            },
            "marker": {
             "colorbar": {
              "outlinewidth": 0,
              "ticks": ""
             }
            },
            "type": "scatter3d"
           }
          ],
          "scattercarpet": [
           {
            "marker": {
             "colorbar": {
              "outlinewidth": 0,
              "ticks": ""
             }
            },
            "type": "scattercarpet"
           }
          ],
          "scattergeo": [
           {
            "marker": {
             "colorbar": {
              "outlinewidth": 0,
              "ticks": ""
             }
            },
            "type": "scattergeo"
           }
          ],
          "scattergl": [
           {
            "marker": {
             "colorbar": {
              "outlinewidth": 0,
              "ticks": ""
             }
            },
            "type": "scattergl"
           }
          ],
          "scattermapbox": [
           {
            "marker": {
             "colorbar": {
              "outlinewidth": 0,
              "ticks": ""
             }
            },
            "type": "scattermapbox"
           }
          ],
          "scatterpolar": [
           {
            "marker": {
             "colorbar": {
              "outlinewidth": 0,
              "ticks": ""
             }
            },
            "type": "scatterpolar"
           }
          ],
          "scatterpolargl": [
           {
            "marker": {
             "colorbar": {
              "outlinewidth": 0,
              "ticks": ""
             }
            },
            "type": "scatterpolargl"
           }
          ],
          "scatterternary": [
           {
            "marker": {
             "colorbar": {
              "outlinewidth": 0,
              "ticks": ""
             }
            },
            "type": "scatterternary"
           }
          ],
          "surface": [
           {
            "colorbar": {
             "outlinewidth": 0,
             "ticks": ""
            },
            "colorscale": [
             [
              0,
              "#0d0887"
             ],
             [
              0.1111111111111111,
              "#46039f"
             ],
             [
              0.2222222222222222,
              "#7201a8"
             ],
             [
              0.3333333333333333,
              "#9c179e"
             ],
             [
              0.4444444444444444,
              "#bd3786"
             ],
             [
              0.5555555555555556,
              "#d8576b"
             ],
             [
              0.6666666666666666,
              "#ed7953"
             ],
             [
              0.7777777777777778,
              "#fb9f3a"
             ],
             [
              0.8888888888888888,
              "#fdca26"
             ],
             [
              1,
              "#f0f921"
             ]
            ],
            "type": "surface"
           }
          ],
          "table": [
           {
            "cells": {
             "fill": {
              "color": "#EBF0F8"
             },
             "line": {
              "color": "white"
             }
            },
            "header": {
             "fill": {
              "color": "#C8D4E3"
             },
             "line": {
              "color": "white"
             }
            },
            "type": "table"
           }
          ]
         },
         "layout": {
          "annotationdefaults": {
           "arrowcolor": "#2a3f5f",
           "arrowhead": 0,
           "arrowwidth": 1
          },
          "autotypenumbers": "strict",
          "coloraxis": {
           "colorbar": {
            "outlinewidth": 0,
            "ticks": ""
           }
          },
          "colorscale": {
           "diverging": [
            [
             0,
             "#8e0152"
            ],
            [
             0.1,
             "#c51b7d"
            ],
            [
             0.2,
             "#de77ae"
            ],
            [
             0.3,
             "#f1b6da"
            ],
            [
             0.4,
             "#fde0ef"
            ],
            [
             0.5,
             "#f7f7f7"
            ],
            [
             0.6,
             "#e6f5d0"
            ],
            [
             0.7,
             "#b8e186"
            ],
            [
             0.8,
             "#7fbc41"
            ],
            [
             0.9,
             "#4d9221"
            ],
            [
             1,
             "#276419"
            ]
           ],
           "sequential": [
            [
             0,
             "#0d0887"
            ],
            [
             0.1111111111111111,
             "#46039f"
            ],
            [
             0.2222222222222222,
             "#7201a8"
            ],
            [
             0.3333333333333333,
             "#9c179e"
            ],
            [
             0.4444444444444444,
             "#bd3786"
            ],
            [
             0.5555555555555556,
             "#d8576b"
            ],
            [
             0.6666666666666666,
             "#ed7953"
            ],
            [
             0.7777777777777778,
             "#fb9f3a"
            ],
            [
             0.8888888888888888,
             "#fdca26"
            ],
            [
             1,
             "#f0f921"
            ]
           ],
           "sequentialminus": [
            [
             0,
             "#0d0887"
            ],
            [
             0.1111111111111111,
             "#46039f"
            ],
            [
             0.2222222222222222,
             "#7201a8"
            ],
            [
             0.3333333333333333,
             "#9c179e"
            ],
            [
             0.4444444444444444,
             "#bd3786"
            ],
            [
             0.5555555555555556,
             "#d8576b"
            ],
            [
             0.6666666666666666,
             "#ed7953"
            ],
            [
             0.7777777777777778,
             "#fb9f3a"
            ],
            [
             0.8888888888888888,
             "#fdca26"
            ],
            [
             1,
             "#f0f921"
            ]
           ]
          },
          "colorway": [
           "#636efa",
           "#EF553B",
           "#00cc96",
           "#ab63fa",
           "#FFA15A",
           "#19d3f3",
           "#FF6692",
           "#B6E880",
           "#FF97FF",
           "#FECB52"
          ],
          "font": {
           "color": "#2a3f5f"
          },
          "geo": {
           "bgcolor": "white",
           "lakecolor": "white",
           "landcolor": "white",
           "showlakes": true,
           "showland": true,
           "subunitcolor": "#C8D4E3"
          },
          "hoverlabel": {
           "align": "left"
          },
          "hovermode": "closest",
          "mapbox": {
           "style": "light"
          },
          "paper_bgcolor": "white",
          "plot_bgcolor": "white",
          "polar": {
           "angularaxis": {
            "gridcolor": "#EBF0F8",
            "linecolor": "#EBF0F8",
            "ticks": ""
           },
           "bgcolor": "white",
           "radialaxis": {
            "gridcolor": "#EBF0F8",
            "linecolor": "#EBF0F8",
            "ticks": ""
           }
          },
          "scene": {
           "xaxis": {
            "backgroundcolor": "white",
            "gridcolor": "#DFE8F3",
            "gridwidth": 2,
            "linecolor": "#EBF0F8",
            "showbackground": true,
            "ticks": "",
            "zerolinecolor": "#EBF0F8"
           },
           "yaxis": {
            "backgroundcolor": "white",
            "gridcolor": "#DFE8F3",
            "gridwidth": 2,
            "linecolor": "#EBF0F8",
            "showbackground": true,
            "ticks": "",
            "zerolinecolor": "#EBF0F8"
           },
           "zaxis": {
            "backgroundcolor": "white",
            "gridcolor": "#DFE8F3",
            "gridwidth": 2,
            "linecolor": "#EBF0F8",
            "showbackground": true,
            "ticks": "",
            "zerolinecolor": "#EBF0F8"
           }
          },
          "shapedefaults": {
           "line": {
            "color": "#2a3f5f"
           }
          },
          "ternary": {
           "aaxis": {
            "gridcolor": "#DFE8F3",
            "linecolor": "#A2B1C6",
            "ticks": ""
           },
           "baxis": {
            "gridcolor": "#DFE8F3",
            "linecolor": "#A2B1C6",
            "ticks": ""
           },
           "bgcolor": "white",
           "caxis": {
            "gridcolor": "#DFE8F3",
            "linecolor": "#A2B1C6",
            "ticks": ""
           }
          },
          "title": {
           "x": 0.05
          },
          "xaxis": {
           "automargin": true,
           "gridcolor": "#EBF0F8",
           "linecolor": "#EBF0F8",
           "ticks": "",
           "title": {
            "standoff": 15
           },
           "zerolinecolor": "#EBF0F8",
           "zerolinewidth": 2
          },
          "yaxis": {
           "automargin": true,
           "gridcolor": "#EBF0F8",
           "linecolor": "#EBF0F8",
           "ticks": "",
           "title": {
            "standoff": 15
           },
           "zerolinecolor": "#EBF0F8",
           "zerolinewidth": 2
          }
         }
        },
        "title": {
         "text": "Item Distribution"
        },
        "xaxis": {
         "anchor": "y",
         "autorange": true,
         "domain": [
          0,
          1
         ],
         "range": [
          -0.5,
          18.5
         ],
         "title": {
          "text": "Itemname"
         },
         "type": "category"
        },
        "yaxis": {
         "anchor": "x",
         "autorange": true,
         "domain": [
          0,
          1
         ],
         "range": [
          0,
          38.94736842105263
         ],
         "title": {
          "text": "count"
         }
        }
       }
      },
      "image/png": "[encoded data removed]",
      "text/html": [
       "<div>                            <div id=\"6bb725e2-ba38-40e9-8199-0e97abcdabbe\" class=\"plotly-graph-div\" style=\"height:525px; width:100%;\"></div>            <script type=\"text/javascript\">                require([\"plotly\"], function(Plotly) {                    window.PLOTLYENV=window.PLOTLYENV || {};                                    if (document.getElementById(\"6bb725e2-ba38-40e9-8199-0e97abcdabbe\")) {                    Plotly.newPlot(                        \"6bb725e2-ba38-40e9-8199-0e97abcdabbe\",                        [{\"alignmentgroup\":\"True\",\"bingroup\":\"x\",\"hovertemplate\":\"Itemname=%{x}<br>count=%{y}<extra></extra>\",\"legendgroup\":\"\",\"marker\":{\"color\":\"#636efa\",\"pattern\":{\"shape\":\"\"}},\"name\":\"\",\"offsetgroup\":\"\",\"orientation\":\"v\",\"showlegend\":false,\"x\":[\"Apples\",\"Butter\",\"Eggs\",\"Potatoes\",\"Oranges\",\"Milk\",\"Onions\",\"Cereal\",\"Tomatoes\",\"Potatoes\",\"Cereal\",\"Bananas\",\"Tomatoes\",\"Pasta\",\"Onions\",\"Bread\",\"Bananas\",\"Coffee\",\"Sugar\",\"Potatoes\",\"Oranges\",\"Bananas\",\"Oranges\",\"Potatoes\",\"Chicken\",\"Cereal\",\"Bananas\",\"Cheese\",\"Pasta\",\"Cereal\",\"Onions\",\"Bananas\",\"Chicken\",\"Sugar\",\"Eggs\",\"Onions\",\"Cereal\",\"Cheese\",\"Cereal\",\"Coffee\",\"Bread\",\"Onions\",\"Chicken\",\"Pasta\",\"Eggs\",\"Butter\",\"Bananas\",\"Chicken\",\"Tomatoes\",\"Tea\",\"Bananas\",\"Pasta\",\"Eggs\",\"Cereal\",\"Sugar\",\"Coffee\",\"Apples\",\"Tomatoes\",\"Chicken\",\"Pasta\",\"Bread\",\"Sugar\",\"Potatoes\",\"Yogurt\",\"Butter\",\"Bananas\",\"Milk\",\"Eggs\",\"Sugar\",\"Juice\",\"Tomatoes\",\"Butter\",\"Onions\",\"Coffee\",\"Bananas\",\"Onions\",\"Coffee\",\"Tea\",\"Bananas\",\"Onions\",\"Juice\",\"Pasta\",\"Tea\",\"Juice\",\"Cereal\",\"Butter\",\"Yogurt\",\"Juice\",\"Pasta\",\"Onions\",\"Chicken\",\"Tea\",\"Juice\",\"Potatoes\",\"Sugar\",\"Coffee\",\"Milk\",\"Tomatoes\",\"Apples\",\"Yogurt\",\"Eggs\",\"Pasta\",\"Bread\",\"Apples\",\"Butter\",\"Apples\",\"Tea\",\"Juice\",\"Butter\",\"Eggs\",\"Tomatoes\",\"Milk\",\"Milk\",\"Bananas\",\"Oranges\",\"Bananas\",\"Apples\",\"Yogurt\",\"Sugar\",\"Tomatoes\",\"Bread\",\"Bananas\",\"Potatoes\",\"Tomatoes\",\"Onions\",\"Milk\",\"Oranges\",\"Milk\",\"Yogurt\",\"Oranges\",\"Coffee\",\"Bread\",\"Juice\",\"Tomatoes\",\"Eggs\",\"Potatoes\",\"Bananas\",\"Milk\",\"Butter\",\"Bananas\",\"Onions\",\"Eggs\",\"Juice\",\"Cheese\",\"Cheese\",\"Oranges\",\"Tomatoes\",\"Yogurt\",\"Potatoes\",\"Juice\",\"Sugar\",\"Bananas\",\"Eggs\",\"Tea\",\"Yogurt\",\"Eggs\",\"Butter\",\"Oranges\",\"Bread\",\"Potatoes\",\"Cheese\",\"Sugar\",\"Apples\",\"Tomatoes\",\"Milk\",\"Cheese\",\"Oranges\",\"Yogurt\",\"Tea\",\"Cereal\",\"Cheese\",\"Cereal\",\"Pasta\",\"Bananas\",\"Coffee\",\"Yogurt\",\"Cereal\",\"Butter\",\"Chicken\",\"Juice\",\"Oranges\",\"Potatoes\",\"Tomatoes\",\"Coffee\",\"Bread\",\"Cereal\",\"Juice\",\"Tea\",\"Coffee\",\"Pasta\",\"Onions\",\"Cheese\",\"Tea\",\"Apples\",\"Oranges\",\"Tea\",\"Cereal\",\"Onions\",\"Juice\",\"Cheese\",\"Tea\",\"Cereal\",\"Yogurt\",\"Bananas\",\"Yogurt\",\"Bananas\",\"Sugar\",\"Tomatoes\",\"Chicken\",\"Butter\",\"Potatoes\",\"Tea\",\"Milk\",\"Oranges\",\"Apples\",\"Tomatoes\",\"Sugar\",\"Tomatoes\",\"Cheese\",\"Oranges\",\"Tea\",\"Yogurt\",\"Yogurt\",\"Oranges\",\"Coffee\",\"Yogurt\",\"Juice\",\"Potatoes\",\"Coffee\",\"Tea\",\"Bananas\",\"Sugar\",\"Coffee\",\"Butter\",\"Tea\",\"Butter\",\"Tomatoes\",\"Apples\",\"Bread\",\"Cheese\",\"Sugar\",\"Onions\",\"Potatoes\",\"Cheese\",\"Bananas\",\"Butter\",\"Cereal\",\"Potatoes\",\"Tea\",\"Bread\",\"Milk\",\"Oranges\",\"Cereal\",\"Bananas\",\"Onions\",\"Cheese\",\"Apples\",\"Eggs\",\"Milk\",\"Potatoes\",\"Cereal\",\"Pasta\",\"Oranges\",\"Chicken\",\"Bread\",\"Cheese\",\"Sugar\",\"Milk\",\"Tomatoes\",\"Cereal\",\"Chicken\",\"Coffee\",\"Cheese\",\"Juice\",\"Tea\",\"Eggs\",\"Potatoes\",\"Butter\",\"Bananas\",\"Eggs\",\"Cheese\",\"Bananas\",\"Juice\",\"Eggs\",\"Tomatoes\",\"Apples\",\"Potatoes\",\"Cheese\",\"Bananas\",\"Sugar\",\"Coffee\",\"Bread\",\"Apples\",\"Bananas\",\"Apples\",\"Milk\",\"Sugar\",\"Coffee\",\"Cereal\",\"Cheese\",\"Oranges\",\"Cheese\",\"Oranges\",\"Milk\",\"Onions\",\"Potatoes\",\"Coffee\",\"Cereal\",\"Tea\",\"Bread\",\"Pasta\",\"Eggs\",\"Coffee\",\"Yogurt\",\"Coffee\",\"Butter\",\"Eggs\",\"Onions\",\"Cereal\",\"Cheese\",\"Butter\",\"Apples\",\"Cheese\",\"Tea\",\"Bread\",\"Cereal\",\"Pasta\",\"Coffee\",\"Sugar\",\"Yogurt\",\"Milk\",\"Chicken\",\"Juice\",\"Pasta\",\"Oranges\",\"Cheese\",\"Coffee\",\"Tomatoes\",\"Bread\",\"Cereal\",\"Cheese\",\"Tomatoes\",\"Oranges\",\"Milk\",\"Tomatoes\",\"Cereal\",\"Apples\",\"Butter\",\"Onions\",\"Yogurt\",\"Milk\",\"Pasta\",\"Onions\",\"Tea\",\"Sugar\",\"Cheese\",\"Juice\",\"Coffee\",\"Onions\",\"Chicken\",\"Potatoes\",\"Apples\",\"Sugar\",\"Bread\",\"Yogurt\",\"Juice\",\"Coffee\",\"Apples\",\"Coffee\",\"Butter\",\"Bread\",\"Oranges\",\"Cheese\",\"Butter\",\"Tea\",\"Bananas\",\"Milk\",\"Onions\",\"Coffee\",\"Eggs\",\"Bananas\",\"Juice\",\"Eggs\",\"Sugar\",\"Coffee\",\"Apples\",\"Tea\",\"Apples\",\"Chicken\",\"Pasta\",\"Sugar\",\"Yogurt\",\"Apples\",\"Sugar\",\"Pasta\",\"Coffee\",\"Bread\",\"Milk\",\"Yogurt\",\"Yogurt\",\"Chicken\",\"Oranges\",\"Bread\",\"Butter\",\"Oranges\",\"Apples\",\"Chicken\",\"Eggs\",\"Cereal\",\"Sugar\",\"Tea\",\"Coffee\",\"Potatoes\",\"Eggs\",\"Cereal\",\"Pasta\",\"Pasta\",\"Butter\",\"Chicken\",\"Potatoes\",\"Bananas\",\"Tomatoes\",\"Eggs\",\"Apples\",\"Milk\",\"Tomatoes\",\"Cheese\",\"Onions\",\"Sugar\",\"Coffee\",\"Cereal\",\"Yogurt\",\"Sugar\",\"Tomatoes\",\"Eggs\",\"Bananas\",\"Eggs\",\"Tomatoes\",\"Eggs\",\"Cereal\",\"Pasta\",\"Bananas\",\"Bananas\",\"Cereal\",\"Onions\",\"Chicken\",\"Potatoes\",\"Bananas\",\"Cereal\",\"Bananas\",\"Juice\",\"Milk\",\"Oranges\",\"Butter\",\"Apples\",\"Bread\",\"Yogurt\",\"Oranges\",\"Sugar\",\"Potatoes\",\"Pasta\",\"Oranges\",\"Potatoes\",\"Yogurt\",\"Oranges\",\"Cheese\",\"Apples\",\"Milk\",\"Potatoes\",\"Coffee\",\"Yogurt\",\"Butter\",\"Bread\",\"Cereal\",\"Cheese\",\"Bananas\",\"Yogurt\",\"Pasta\",\"Chicken\",\"Juice\",\"Eggs\",\"Oranges\",\"Coffee\",\"Tomatoes\",\"Coffee\",\"Bread\",\"Juice\",\"Bananas\",\"Chicken\",\"Butter\",\"Oranges\",\"Milk\",\"Potatoes\",\"Chicken\",\"Bananas\",\"Juice\",\"Bread\",\"Coffee\",\"Pasta\",\"Eggs\"],\"xaxis\":\"x\",\"yaxis\":\"y\",\"type\":\"histogram\"}],                        {\"template\":{\"data\":{\"histogram2dcontour\":[{\"type\":\"histogram2dcontour\",\"colorbar\":{\"outlinewidth\":0,\"ticks\":\"\"},\"colorscale\":[[0.0,\"#0d0887\"],[0.1111111111111111,\"#46039f\"],[0.2222222222222222,\"#7201a8\"],[0.3333333333333333,\"#9c179e\"],[0.4444444444444444,\"#bd3786\"],[0.5555555555555556,\"#d8576b\"],[0.6666666666666666,\"#ed7953\"],[0.7777777777777778,\"#fb9f3a\"],[0.8888888888888888,\"#fdca26\"],[1.0,\"#f0f921\"]]}],\"choropleth\":[{\"type\":\"choropleth\",\"colorbar\":{\"outlinewidth\":0,\"ticks\":\"\"}}],\"histogram2d\":[{\"type\":\"histogram2d\",\"colorbar\":{\"outlinewidth\":0,\"ticks\":\"\"},\"colorscale\":[[0.0,\"#0d0887\"],[0.1111111111111111,\"#46039f\"],[0.2222222222222222,\"#7201a8\"],[0.3333333333333333,\"#9c179e\"],[0.4444444444444444,\"#bd3786\"],[0.5555555555555556,\"#d8576b\"],[0.6666666666666666,\"#ed7953\"],[0.7777777777777778,\"#fb9f3a\"],[0.8888888888888888,\"#fdca26\"],[1.0,\"#f0f921\"]]}],\"heatmap\":[{\"type\":\"heatmap\",\"colorbar\":{\"outlinewidth\":0,\"ticks\":\"\"},\"colorscale\":[[0.0,\"#0d0887\"],[0.1111111111111111,\"#46039f\"],[0.2222222222222222,\"#7201a8\"],[0.3333333333333333,\"#9c179e\"],[0.4444444444444444,\"#bd3786\"],[0.5555555555555556,\"#d8576b\"],[0.6666666666666666,\"#ed7953\"],[0.7777777777777778,\"#fb9f3a\"],[0.8888888888888888,\"#fdca26\"],[1.0,\"#f0f921\"]]}],\"heatmapgl\":[{\"type\":\"heatmapgl\",\"colorbar\":{\"outlinewidth\":0,\"ticks\":\"\"},\"colorscale\":[[0.0,\"#0d0887\"],[0.1111111111111111,\"#46039f\"],[0.2222222222222222,\"#7201a8\"],[0.3333333333333333,\"#9c179e\"],[0.4444444444444444,\"#bd3786\"],[0.5555555555555556,\"#d8576b\"],[0.6666666666666666,\"#ed7953\"],[0.7777777777777778,\"#fb9f3a\"],[0.8888888888888888,\"#fdca26\"],[1.0,\"#f0f921\"]]}],\"contourcarpet\":[{\"type\":\"contourcarpet\",\"colorbar\":{\"outlinewidth\":0,\"ticks\":\"\"}}],\"contour\":[{\"type\":\"contour\",\"colorbar\":{\"outlinewidth\":0,\"ticks\":\"\"},\"colorscale\":[[0.0,\"#0d0887\"],[0.1111111111111111,\"#46039f\"],[0.2222222222222222,\"#7201a8\"],[0.3333333333333333,\"#9c179e\"],[0.4444444444444444,\"#bd3786\"],[0.5555555555555556,\"#d8576b\"],[0.6666666666666666,\"#ed7953\"],[0.7777777777777778,\"#fb9f3a\"],[0.8888888888888888,\"#fdca26\"],[1.0,\"#f0f921\"]]}],\"surface\":[{\"type\":\"surface\",\"colorbar\":{\"outlinewidth\":0,\"ticks\":\"\"},\"colorscale\":[[0.0,\"#0d0887\"],[0.1111111111111111,\"#46039f\"],[0.2222222222222222,\"#7201a8\"],[0.3333333333333333,\"#9c179e\"],[0.4444444444444444,\"#bd3786\"],[0.5555555555555556,\"#d8576b\"],[0.6666666666666666,\"#ed7953\"],[0.7777777777777778,\"#fb9f3a\"],[0.8888888888888888,\"#fdca26\"],[1.0,\"#f0f921\"]]}],\"mesh3d\":[{\"type\":\"mesh3d\",\"colorbar\":{\"outlinewidth\":0,\"ticks\":\"\"}}],\"scatter\":[{\"fillpattern\":{\"fillmode\":\"overlay\",\"size\":10,\"solidity\":0.2},\"type\":\"scatter\"}],\"parcoords\":[{\"type\":\"parcoords\",\"line\":{\"colorbar\":{\"outlinewidth\":0,\"ticks\":\"\"}}}],\"scatterpolargl\":[{\"type\":\"scatterpolargl\",\"marker\":{\"colorbar\":{\"outlinewidth\":0,\"ticks\":\"\"}}}],\"bar\":[{\"error_x\":{\"color\":\"#2a3f5f\"},\"error_y\":{\"color\":\"#2a3f5f\"},\"marker\":{\"line\":{\"color\":\"white\",\"width\":0.5},\"pattern\":{\"fillmode\":\"overlay\",\"size\":10,\"solidity\":0.2}},\"type\":\"bar\"}],\"scattergeo\":[{\"type\":\"scattergeo\",\"marker\":{\"colorbar\":{\"outlinewidth\":0,\"ticks\":\"\"}}}],\"scatterpolar\":[{\"type\":\"scatterpolar\",\"marker\":{\"colorbar\":{\"outlinewidth\":0,\"ticks\":\"\"}}}],\"histogram\":[{\"marker\":{\"pattern\":{\"fillmode\":\"overlay\",\"size\":10,\"solidity\":0.2}},\"type\":\"histogram\"}],\"scattergl\":[{\"type\":\"scattergl\",\"marker\":{\"colorbar\":{\"outlinewidth\":0,\"ticks\":\"\"}}}],\"scatter3d\":[{\"type\":\"scatter3d\",\"line\":{\"colorbar\":{\"outlinewidth\":0,\"ticks\":\"\"}},\"marker\":{\"colorbar\":{\"outlinewidth\":0,\"ticks\":\"\"}}}],\"scattermapbox\":[{\"type\":\"scattermapbox\",\"marker\":{\"colorbar\":{\"outlinewidth\":0,\"ticks\":\"\"}}}],\"scatterternary\":[{\"type\":\"scatterternary\",\"marker\":{\"colorbar\":{\"outlinewidth\":0,\"ticks\":\"\"}}}],\"scattercarpet\":[{\"type\":\"scattercarpet\",\"marker\":{\"colorbar\":{\"outlinewidth\":0,\"ticks\":\"\"}}}],\"carpet\":[{\"aaxis\":{\"endlinecolor\":\"#2a3f5f\",\"gridcolor\":\"#C8D4E3\",\"linecolor\":\"#C8D4E3\",\"minorgridcolor\":\"#C8D4E3\",\"startlinecolor\":\"#2a3f5f\"},\"baxis\":{\"endlinecolor\":\"#2a3f5f\",\"gridcolor\":\"#C8D4E3\",\"linecolor\":\"#C8D4E3\",\"minorgridcolor\":\"#C8D4E3\",\"startlinecolor\":\"#2a3f5f\"},\"type\":\"carpet\"}],\"table\":[{\"cells\":{\"fill\":{\"color\":\"#EBF0F8\"},\"line\":{\"color\":\"white\"}},\"header\":{\"fill\":{\"color\":\"#C8D4E3\"},\"line\":{\"color\":\"white\"}},\"type\":\"table\"}],\"barpolar\":[{\"marker\":{\"line\":{\"color\":\"white\",\"width\":0.5},\"pattern\":{\"fillmode\":\"overlay\",\"size\":10,\"solidity\":0.2}},\"type\":\"barpolar\"}],\"pie\":[{\"automargin\":true,\"type\":\"pie\"}]},\"layout\":{\"autotypenumbers\":\"strict\",\"colorway\":[\"#636efa\",\"#EF553B\",\"#00cc96\",\"#ab63fa\",\"#FFA15A\",\"#19d3f3\",\"#FF6692\",\"#B6E880\",\"#FF97FF\",\"#FECB52\"],\"font\":{\"color\":\"#2a3f5f\"},\"hovermode\":\"closest\",\"hoverlabel\":{\"align\":\"left\"},\"paper_bgcolor\":\"white\",\"plot_bgcolor\":\"white\",\"polar\":{\"bgcolor\":\"white\",\"angularaxis\":{\"gridcolor\":\"#EBF0F8\",\"linecolor\":\"#EBF0F8\",\"ticks\":\"\"},\"radialaxis\":{\"gridcolor\":\"#EBF0F8\",\"linecolor\":\"#EBF0F8\",\"ticks\":\"\"}},\"ternary\":{\"bgcolor\":\"white\",\"aaxis\":{\"gridcolor\":\"#DFE8F3\",\"linecolor\":\"#A2B1C6\",\"ticks\":\"\"},\"baxis\":{\"gridcolor\":\"#DFE8F3\",\"linecolor\":\"#A2B1C6\",\"ticks\":\"\"},\"caxis\":{\"gridcolor\":\"#DFE8F3\",\"linecolor\":\"#A2B1C6\",\"ticks\":\"\"}},\"coloraxis\":{\"colorbar\":{\"outlinewidth\":0,\"ticks\":\"\"}},\"colorscale\":{\"sequential\":[[0.0,\"#0d0887\"],[0.1111111111111111,\"#46039f\"],[0.2222222222222222,\"#7201a8\"],[0.3333333333333333,\"#9c179e\"],[0.4444444444444444,\"#bd3786\"],[0.5555555555555556,\"#d8576b\"],[0.6666666666666666,\"#ed7953\"],[0.7777777777777778,\"#fb9f3a\"],[0.8888888888888888,\"#fdca26\"],[1.0,\"#f0f921\"]],\"sequentialminus\":[[0.0,\"#0d0887\"],[0.1111111111111111,\"#46039f\"],[0.2222222222222222,\"#7201a8\"],[0.3333333333333333,\"#9c179e\"],[0.4444444444444444,\"#bd3786\"],[0.5555555555555556,\"#d8576b\"],[0.6666666666666666,\"#ed7953\"],[0.7777777777777778,\"#fb9f3a\"],[0.8888888888888888,\"#fdca26\"],[1.0,\"#f0f921\"]],\"diverging\":[[0,\"#8e0152\"],[0.1,\"#c51b7d\"],[0.2,\"#de77ae\"],[0.3,\"#f1b6da\"],[0.4,\"#fde0ef\"],[0.5,\"#f7f7f7\"],[0.6,\"#e6f5d0\"],[0.7,\"#b8e186\"],[0.8,\"#7fbc41\"],[0.9,\"#4d9221\"],[1,\"#276419\"]]},\"xaxis\":{\"gridcolor\":\"#EBF0F8\",\"linecolor\":\"#EBF0F8\",\"ticks\":\"\",\"title\":{\"standoff\":15},\"zerolinecolor\":\"#EBF0F8\",\"automargin\":true,\"zerolinewidth\":2},\"yaxis\":{\"gridcolor\":\"#EBF0F8\",\"linecolor\":\"#EBF0F8\",\"ticks\":\"\",\"title\":{\"standoff\":15},\"zerolinecolor\":\"#EBF0F8\",\"automargin\":true,\"zerolinewidth\":2},\"scene\":{\"xaxis\":{\"backgroundcolor\":\"white\",\"gridcolor\":\"#DFE8F3\",\"linecolor\":\"#EBF0F8\",\"showbackground\":true,\"ticks\":\"\",\"zerolinecolor\":\"#EBF0F8\",\"gridwidth\":2},\"yaxis\":{\"backgroundcolor\":\"white\",\"gridcolor\":\"#DFE8F3\",\"linecolor\":\"#EBF0F8\",\"showbackground\":true,\"ticks\":\"\",\"zerolinecolor\":\"#EBF0F8\",\"gridwidth\":2},\"zaxis\":{\"backgroundcolor\":\"white\",\"gridcolor\":\"#DFE8F3\",\"linecolor\":\"#EBF0F8\",\"showbackground\":true,\"ticks\":\"\",\"zerolinecolor\":\"#EBF0F8\",\"gridwidth\":2}},\"shapedefaults\":{\"line\":{\"color\":\"#2a3f5f\"}},\"annotationdefaults\":{\"arrowcolor\":\"#2a3f5f\",\"arrowhead\":0,\"arrowwidth\":1},\"geo\":{\"bgcolor\":\"white\",\"landcolor\":\"white\",\"subunitcolor\":\"#C8D4E3\",\"showland\":true,\"showlakes\":true,\"lakecolor\":\"white\"},\"title\":{\"x\":0.05},\"mapbox\":{\"style\":\"light\"}}},\"xaxis\":{\"anchor\":\"y\",\"domain\":[0.0,1.0],\"title\":{\"text\":\"Itemname\"}},\"yaxis\":{\"anchor\":\"x\",\"domain\":[0.0,1.0],\"title\":{\"text\":\"count\"}},\"legend\":{\"tracegroupgap\":0},\"title\":{\"text\":\"Item Distribution\"},\"barmode\":\"relative\"},                        {\"responsive\": true}                    ).then(function(){\n",
       "                            \n",
       "var gd = document.getElementById('6bb725e2-ba38-40e9-8199-0e97abcdabbe');\n",
       "var x = new MutationObserver(function (mutations, observer) {{\n",
       "        var display = window.getComputedStyle(gd).display;\n",
       "        if (!display || display === 'none') {{\n",
       "            console.log([gd, 'removed!']);\n",
       "            Plotly.purge(gd);\n",
       "            observer.disconnect();\n",
       "        }}\n",
       "}});\n",
       "\n",
       "// Listen for the removal of the full notebook cells\n",
       "var notebookContainer = gd.closest('#notebook-container');\n",
       "if (notebookContainer) {{\n",
       "    x.observe(notebookContainer, {childList: true});\n",
       "}}\n",
       "\n",
       "// Listen for the clearing of the current output cell\n",
       "var outputEl = gd.closest('.output');\n",
       "if (outputEl) {{\n",
       "    x.observe(outputEl, {childList: true});\n",
       "}}\n",
       "\n",
       "                        })                };                });            </script>        </div>"
      ]
     },
     "metadata": {},
     "output_type": "display_data"
    }
   ],
   "source": [
    "#Sales Distribution of Items\n",
    "fig = px.histogram(data, x='Itemname', \n",
    "                   title='Item Distribution')\n",
    "fig.show()"
   ]
  },
  {
   "cell_type": "code",
   "execution_count": 19,
   "id": "70ef020c-1baf-4e65-87d2-7b1a8578c6d8",
   "metadata": {},
   "outputs": [
    {
     "data": {
      "application/vnd.plotly.v1+json": {
       "config": {
        "plotlyServerURL": "https://plot.ly"
       },
       "data": [
        {
         "marker": {
          "color": "skyblue"
         },
         "text": [
          119,
          99,
          88,
          87,
          86,
          81,
          79,
          79,
          78,
          76
         ],
         "textposition": "auto",
         "type": "bar",
         "x": [
          "Bananas",
          "Cheese",
          "Coffee",
          "Cereal",
          "Milk",
          "Oranges",
          "Tomatoes",
          "Sugar",
          "Potatoes",
          "Bread"
         ],
         "y": [
          119,
          99,
          88,
          87,
          86,
          81,
          79,
          79,
          78,
          76
         ]
        }
       ],
       "layout": {
        "autosize": true,
        "template": {
         "data": {
          "bar": [
           {
            "error_x": {
             "color": "#2a3f5f"
            },
            "error_y": {
             "color": "#2a3f5f"
            },
            "marker": {
             "line": {
              "color": "white",
              "width": 0.5
             },
             "pattern": {
              "fillmode": "overlay",
              "size": 10,
              "solidity": 0.2
             }
            },
            "type": "bar"
           }
          ],
          "barpolar": [
           {
            "marker": {
             "line": {
              "color": "white",
              "width": 0.5
             },
             "pattern": {
              "fillmode": "overlay",
              "size": 10,
              "solidity": 0.2
             }
            },
            "type": "barpolar"
           }
          ],
          "carpet": [
           {
            "aaxis": {
             "endlinecolor": "#2a3f5f",
             "gridcolor": "#C8D4E3",
             "linecolor": "#C8D4E3",
             "minorgridcolor": "#C8D4E3",
             "startlinecolor": "#2a3f5f"
            },
            "baxis": {
             "endlinecolor": "#2a3f5f",
             "gridcolor": "#C8D4E3",
             "linecolor": "#C8D4E3",
             "minorgridcolor": "#C8D4E3",
             "startlinecolor": "#2a3f5f"
            },
            "type": "carpet"
           }
          ],
          "choropleth": [
           {
            "colorbar": {
             "outlinewidth": 0,
             "ticks": ""
            },
            "type": "choropleth"
           }
          ],
          "contour": [
           {
            "colorbar": {
             "outlinewidth": 0,
             "ticks": ""
            },
            "colorscale": [
             [
              0,
              "#0d0887"
             ],
             [
              0.1111111111111111,
              "#46039f"
             ],
             [
              0.2222222222222222,
              "#7201a8"
             ],
             [
              0.3333333333333333,
              "#9c179e"
             ],
             [
              0.4444444444444444,
              "#bd3786"
             ],
             [
              0.5555555555555556,
              "#d8576b"
             ],
             [
              0.6666666666666666,
              "#ed7953"
             ],
             [
              0.7777777777777778,
              "#fb9f3a"
             ],
             [
              0.8888888888888888,
              "#fdca26"
             ],
             [
              1,
              "#f0f921"
             ]
            ],
            "type": "contour"
           }
          ],
          "contourcarpet": [
           {
            "colorbar": {
             "outlinewidth": 0,
             "ticks": ""
            },
            "type": "contourcarpet"
           }
          ],
          "heatmap": [
           {
            "colorbar": {
             "outlinewidth": 0,
             "ticks": ""
            },
            "colorscale": [
             [
              0,
              "#0d0887"
             ],
             [
              0.1111111111111111,
              "#46039f"
             ],
             [
              0.2222222222222222,
              "#7201a8"
             ],
             [
              0.3333333333333333,
              "#9c179e"
             ],
             [
              0.4444444444444444,
              "#bd3786"
             ],
             [
              0.5555555555555556,
              "#d8576b"
             ],
             [
              0.6666666666666666,
              "#ed7953"
             ],
             [
              0.7777777777777778,
              "#fb9f3a"
             ],
             [
              0.8888888888888888,
              "#fdca26"
             ],
             [
              1,
              "#f0f921"
             ]
            ],
            "type": "heatmap"
           }
          ],
          "heatmapgl": [
           {
            "colorbar": {
             "outlinewidth": 0,
             "ticks": ""
            },
            "colorscale": [
             [
              0,
              "#0d0887"
             ],
             [
              0.1111111111111111,
              "#46039f"
             ],
             [
              0.2222222222222222,
              "#7201a8"
             ],
             [
              0.3333333333333333,
              "#9c179e"
             ],
             [
              0.4444444444444444,
              "#bd3786"
             ],
             [
              0.5555555555555556,
              "#d8576b"
             ],
             [
              0.6666666666666666,
              "#ed7953"
             ],
             [
              0.7777777777777778,
              "#fb9f3a"
             ],
             [
              0.8888888888888888,
              "#fdca26"
             ],
             [
              1,
              "#f0f921"
             ]
            ],
            "type": "heatmapgl"
           }
          ],
          "histogram": [
           {
            "marker": {
             "pattern": {
              "fillmode": "overlay",
              "size": 10,
              "solidity": 0.2
             }
            },
            "type": "histogram"
           }
          ],
          "histogram2d": [
           {
            "colorbar": {
             "outlinewidth": 0,
             "ticks": ""
            },
            "colorscale": [
             [
              0,
              "#0d0887"
             ],
             [
              0.1111111111111111,
              "#46039f"
             ],
             [
              0.2222222222222222,
              "#7201a8"
             ],
             [
              0.3333333333333333,
              "#9c179e"
             ],
             [
              0.4444444444444444,
              "#bd3786"
             ],
             [
              0.5555555555555556,
              "#d8576b"
             ],
             [
              0.6666666666666666,
              "#ed7953"
             ],
             [
              0.7777777777777778,
              "#fb9f3a"
             ],
             [
              0.8888888888888888,
              "#fdca26"
             ],
             [
              1,
              "#f0f921"
             ]
            ],
            "type": "histogram2d"
           }
          ],
          "histogram2dcontour": [
           {
            "colorbar": {
             "outlinewidth": 0,
             "ticks": ""
            },
            "colorscale": [
             [
              0,
              "#0d0887"
             ],
             [
              0.1111111111111111,
              "#46039f"
             ],
             [
              0.2222222222222222,
              "#7201a8"
             ],
             [
              0.3333333333333333,
              "#9c179e"
             ],
             [
              0.4444444444444444,
              "#bd3786"
             ],
             [
              0.5555555555555556,
              "#d8576b"
             ],
             [
              0.6666666666666666,
              "#ed7953"
             ],
             [
              0.7777777777777778,
              "#fb9f3a"
             ],
             [
              0.8888888888888888,
              "#fdca26"
             ],
             [
              1,
              "#f0f921"
             ]
            ],
            "type": "histogram2dcontour"
           }
          ],
          "mesh3d": [
           {
            "colorbar": {
             "outlinewidth": 0,
             "ticks": ""
            },
            "type": "mesh3d"
           }
          ],
          "parcoords": [
           {
            "line": {
             "colorbar": {
              "outlinewidth": 0,
              "ticks": ""
             }
            },
            "type": "parcoords"
           }
          ],
          "pie": [
           {
            "automargin": true,
            "type": "pie"
           }
          ],
          "scatter": [
           {
            "fillpattern": {
             "fillmode": "overlay",
             "size": 10,
             "solidity": 0.2
            },
            "type": "scatter"
           }
          ],
          "scatter3d": [
           {
            "line": {
             "colorbar": {
              "outlinewidth": 0,
              "ticks": ""
             }
            },
            "marker": {
             "colorbar": {
              "outlinewidth": 0,
              "ticks": ""
             }
            },
            "type": "scatter3d"
           }
          ],
          "scattercarpet": [
           {
            "marker": {
             "colorbar": {
              "outlinewidth": 0,
              "ticks": ""
             }
            },
            "type": "scattercarpet"
           }
          ],
          "scattergeo": [
           {
            "marker": {
             "colorbar": {
              "outlinewidth": 0,
              "ticks": ""
             }
            },
            "type": "scattergeo"
           }
          ],
          "scattergl": [
           {
            "marker": {
             "colorbar": {
              "outlinewidth": 0,
              "ticks": ""
             }
            },
            "type": "scattergl"
           }
          ],
          "scattermapbox": [
           {
            "marker": {
             "colorbar": {
              "outlinewidth": 0,
              "ticks": ""
             }
            },
            "type": "scattermapbox"
           }
          ],
          "scatterpolar": [
           {
            "marker": {
             "colorbar": {
              "outlinewidth": 0,
              "ticks": ""
             }
            },
            "type": "scatterpolar"
           }
          ],
          "scatterpolargl": [
           {
            "marker": {
             "colorbar": {
              "outlinewidth": 0,
              "ticks": ""
             }
            },
            "type": "scatterpolargl"
           }
          ],
          "scatterternary": [
           {
            "marker": {
             "colorbar": {
              "outlinewidth": 0,
              "ticks": ""
             }
            },
            "type": "scatterternary"
           }
          ],
          "surface": [
           {
            "colorbar": {
             "outlinewidth": 0,
             "ticks": ""
            },
            "colorscale": [
             [
              0,
              "#0d0887"
             ],
             [
              0.1111111111111111,
              "#46039f"
             ],
             [
              0.2222222222222222,
              "#7201a8"
             ],
             [
              0.3333333333333333,
              "#9c179e"
             ],
             [
              0.4444444444444444,
              "#bd3786"
             ],
             [
              0.5555555555555556,
              "#d8576b"
             ],
             [
              0.6666666666666666,
              "#ed7953"
             ],
             [
              0.7777777777777778,
              "#fb9f3a"
             ],
             [
              0.8888888888888888,
              "#fdca26"
             ],
             [
              1,
              "#f0f921"
             ]
            ],
            "type": "surface"
           }
          ],
          "table": [
           {
            "cells": {
             "fill": {
              "color": "#EBF0F8"
             },
             "line": {
              "color": "white"
             }
            },
            "header": {
             "fill": {
              "color": "#C8D4E3"
             },
             "line": {
              "color": "white"
             }
            },
            "type": "table"
           }
          ]
         },
         "layout": {
          "annotationdefaults": {
           "arrowcolor": "#2a3f5f",
           "arrowhead": 0,
           "arrowwidth": 1
          },
          "autotypenumbers": "strict",
          "coloraxis": {
           "colorbar": {
            "outlinewidth": 0,
            "ticks": ""
           }
          },
          "colorscale": {
           "diverging": [
            [
             0,
             "#8e0152"
            ],
            [
             0.1,
             "#c51b7d"
            ],
            [
             0.2,
             "#de77ae"
            ],
            [
             0.3,
             "#f1b6da"
            ],
            [
             0.4,
             "#fde0ef"
            ],
            [
             0.5,
             "#f7f7f7"
            ],
            [
             0.6,
             "#e6f5d0"
            ],
            [
             0.7,
             "#b8e186"
            ],
            [
             0.8,
             "#7fbc41"
            ],
            [
             0.9,
             "#4d9221"
            ],
            [
             1,
             "#276419"
            ]
           ],
           "sequential": [
            [
             0,
             "#0d0887"
            ],
            [
             0.1111111111111111,
             "#46039f"
            ],
            [
             0.2222222222222222,
             "#7201a8"
            ],
            [
             0.3333333333333333,
             "#9c179e"
            ],
            [
             0.4444444444444444,
             "#bd3786"
            ],
            [
             0.5555555555555556,
             "#d8576b"
            ],
            [
             0.6666666666666666,
             "#ed7953"
            ],
            [
             0.7777777777777778,
             "#fb9f3a"
            ],
            [
             0.8888888888888888,
             "#fdca26"
            ],
            [
             1,
             "#f0f921"
            ]
           ],
           "sequentialminus": [
            [
             0,
             "#0d0887"
            ],
            [
             0.1111111111111111,
             "#46039f"
            ],
            [
             0.2222222222222222,
             "#7201a8"
            ],
            [
             0.3333333333333333,
             "#9c179e"
            ],
            [
             0.4444444444444444,
             "#bd3786"
            ],
            [
             0.5555555555555556,
             "#d8576b"
            ],
            [
             0.6666666666666666,
             "#ed7953"
            ],
            [
             0.7777777777777778,
             "#fb9f3a"
            ],
            [
             0.8888888888888888,
             "#fdca26"
            ],
            [
             1,
             "#f0f921"
            ]
           ]
          },
          "colorway": [
           "#636efa",
           "#EF553B",
           "#00cc96",
           "#ab63fa",
           "#FFA15A",
           "#19d3f3",
           "#FF6692",
           "#B6E880",
           "#FF97FF",
           "#FECB52"
          ],
          "font": {
           "color": "#2a3f5f"
          },
          "geo": {
           "bgcolor": "white",
           "lakecolor": "white",
           "landcolor": "white",
           "showlakes": true,
           "showland": true,
           "subunitcolor": "#C8D4E3"
          },
          "hoverlabel": {
           "align": "left"
          },
          "hovermode": "closest",
          "mapbox": {
           "style": "light"
          },
          "paper_bgcolor": "white",
          "plot_bgcolor": "white",
          "polar": {
           "angularaxis": {
            "gridcolor": "#EBF0F8",
            "linecolor": "#EBF0F8",
            "ticks": ""
           },
           "bgcolor": "white",
           "radialaxis": {
            "gridcolor": "#EBF0F8",
            "linecolor": "#EBF0F8",
            "ticks": ""
           }
          },
          "scene": {
           "xaxis": {
            "backgroundcolor": "white",
            "gridcolor": "#DFE8F3",
            "gridwidth": 2,
            "linecolor": "#EBF0F8",
            "showbackground": true,
            "ticks": "",
            "zerolinecolor": "#EBF0F8"
           },
           "yaxis": {
            "backgroundcolor": "white",
            "gridcolor": "#DFE8F3",
            "gridwidth": 2,
            "linecolor": "#EBF0F8",
            "showbackground": true,
            "ticks": "",
            "zerolinecolor": "#EBF0F8"
           },
           "zaxis": {
            "backgroundcolor": "white",
            "gridcolor": "#DFE8F3",
            "gridwidth": 2,
            "linecolor": "#EBF0F8",
            "showbackground": true,
            "ticks": "",
            "zerolinecolor": "#EBF0F8"
           }
          },
          "shapedefaults": {
           "line": {
            "color": "#2a3f5f"
           }
          },
          "ternary": {
           "aaxis": {
            "gridcolor": "#DFE8F3",
            "linecolor": "#A2B1C6",
            "ticks": ""
           },
           "baxis": {
            "gridcolor": "#DFE8F3",
            "linecolor": "#A2B1C6",
            "ticks": ""
           },
           "bgcolor": "white",
           "caxis": {
            "gridcolor": "#DFE8F3",
            "linecolor": "#A2B1C6",
            "ticks": ""
           }
          },
          "title": {
           "x": 0.05
          },
          "xaxis": {
           "automargin": true,
           "gridcolor": "#EBF0F8",
           "linecolor": "#EBF0F8",
           "ticks": "",
           "title": {
            "standoff": 15
           },
           "zerolinecolor": "#EBF0F8",
           "zerolinewidth": 2
          },
          "yaxis": {
           "automargin": true,
           "gridcolor": "#EBF0F8",
           "linecolor": "#EBF0F8",
           "ticks": "",
           "title": {
            "standoff": 15
           },
           "zerolinecolor": "#EBF0F8",
           "zerolinewidth": 2
          }
         }
        },
        "title": {
         "text": "Top 10 Most Popular Items"
        },
        "xaxis": {
         "autorange": true,
         "range": [
          -0.5,
          9.5
         ],
         "title": {
          "text": "Item Name"
         },
         "type": "category"
        },
        "yaxis": {
         "autorange": true,
         "range": [
          0,
          125.26315789473685
         ],
         "title": {
          "text": "Total Quantity Sold"
         },
         "type": "linear"
        }
       }
      },
      "image/png": "[encoded data removed]",
      "text/html": [
       "<div>                            <div id=\"b1c31abd-d9fd-4efe-93fb-d7491bee9090\" class=\"plotly-graph-div\" style=\"height:525px; width:100%;\"></div>            <script type=\"text/javascript\">                require([\"plotly\"], function(Plotly) {                    window.PLOTLYENV=window.PLOTLYENV || {};                                    if (document.getElementById(\"b1c31abd-d9fd-4efe-93fb-d7491bee9090\")) {                    Plotly.newPlot(                        \"b1c31abd-d9fd-4efe-93fb-d7491bee9090\",                        [{\"marker\":{\"color\":\"skyblue\"},\"text\":[119.0,99.0,88.0,87.0,86.0,81.0,79.0,79.0,78.0,76.0],\"textposition\":\"auto\",\"x\":[\"Bananas\",\"Cheese\",\"Coffee\",\"Cereal\",\"Milk\",\"Oranges\",\"Tomatoes\",\"Sugar\",\"Potatoes\",\"Bread\"],\"y\":[119,99,88,87,86,81,79,79,78,76],\"type\":\"bar\"}],                        {\"template\":{\"data\":{\"histogram2dcontour\":[{\"type\":\"histogram2dcontour\",\"colorbar\":{\"outlinewidth\":0,\"ticks\":\"\"},\"colorscale\":[[0.0,\"#0d0887\"],[0.1111111111111111,\"#46039f\"],[0.2222222222222222,\"#7201a8\"],[0.3333333333333333,\"#9c179e\"],[0.4444444444444444,\"#bd3786\"],[0.5555555555555556,\"#d8576b\"],[0.6666666666666666,\"#ed7953\"],[0.7777777777777778,\"#fb9f3a\"],[0.8888888888888888,\"#fdca26\"],[1.0,\"#f0f921\"]]}],\"choropleth\":[{\"type\":\"choropleth\",\"colorbar\":{\"outlinewidth\":0,\"ticks\":\"\"}}],\"histogram2d\":[{\"type\":\"histogram2d\",\"colorbar\":{\"outlinewidth\":0,\"ticks\":\"\"},\"colorscale\":[[0.0,\"#0d0887\"],[0.1111111111111111,\"#46039f\"],[0.2222222222222222,\"#7201a8\"],[0.3333333333333333,\"#9c179e\"],[0.4444444444444444,\"#bd3786\"],[0.5555555555555556,\"#d8576b\"],[0.6666666666666666,\"#ed7953\"],[0.7777777777777778,\"#fb9f3a\"],[0.8888888888888888,\"#fdca26\"],[1.0,\"#f0f921\"]]}],\"heatmap\":[{\"type\":\"heatmap\",\"colorbar\":{\"outlinewidth\":0,\"ticks\":\"\"},\"colorscale\":[[0.0,\"#0d0887\"],[0.1111111111111111,\"#46039f\"],[0.2222222222222222,\"#7201a8\"],[0.3333333333333333,\"#9c179e\"],[0.4444444444444444,\"#bd3786\"],[0.5555555555555556,\"#d8576b\"],[0.6666666666666666,\"#ed7953\"],[0.7777777777777778,\"#fb9f3a\"],[0.8888888888888888,\"#fdca26\"],[1.0,\"#f0f921\"]]}],\"heatmapgl\":[{\"type\":\"heatmapgl\",\"colorbar\":{\"outlinewidth\":0,\"ticks\":\"\"},\"colorscale\":[[0.0,\"#0d0887\"],[0.1111111111111111,\"#46039f\"],[0.2222222222222222,\"#7201a8\"],[0.3333333333333333,\"#9c179e\"],[0.4444444444444444,\"#bd3786\"],[0.5555555555555556,\"#d8576b\"],[0.6666666666666666,\"#ed7953\"],[0.7777777777777778,\"#fb9f3a\"],[0.8888888888888888,\"#fdca26\"],[1.0,\"#f0f921\"]]}],\"contourcarpet\":[{\"type\":\"contourcarpet\",\"colorbar\":{\"outlinewidth\":0,\"ticks\":\"\"}}],\"contour\":[{\"type\":\"contour\",\"colorbar\":{\"outlinewidth\":0,\"ticks\":\"\"},\"colorscale\":[[0.0,\"#0d0887\"],[0.1111111111111111,\"#46039f\"],[0.2222222222222222,\"#7201a8\"],[0.3333333333333333,\"#9c179e\"],[0.4444444444444444,\"#bd3786\"],[0.5555555555555556,\"#d8576b\"],[0.6666666666666666,\"#ed7953\"],[0.7777777777777778,\"#fb9f3a\"],[0.8888888888888888,\"#fdca26\"],[1.0,\"#f0f921\"]]}],\"surface\":[{\"type\":\"surface\",\"colorbar\":{\"outlinewidth\":0,\"ticks\":\"\"},\"colorscale\":[[0.0,\"#0d0887\"],[0.1111111111111111,\"#46039f\"],[0.2222222222222222,\"#7201a8\"],[0.3333333333333333,\"#9c179e\"],[0.4444444444444444,\"#bd3786\"],[0.5555555555555556,\"#d8576b\"],[0.6666666666666666,\"#ed7953\"],[0.7777777777777778,\"#fb9f3a\"],[0.8888888888888888,\"#fdca26\"],[1.0,\"#f0f921\"]]}],\"mesh3d\":[{\"type\":\"mesh3d\",\"colorbar\":{\"outlinewidth\":0,\"ticks\":\"\"}}],\"scatter\":[{\"fillpattern\":{\"fillmode\":\"overlay\",\"size\":10,\"solidity\":0.2},\"type\":\"scatter\"}],\"parcoords\":[{\"type\":\"parcoords\",\"line\":{\"colorbar\":{\"outlinewidth\":0,\"ticks\":\"\"}}}],\"scatterpolargl\":[{\"type\":\"scatterpolargl\",\"marker\":{\"colorbar\":{\"outlinewidth\":0,\"ticks\":\"\"}}}],\"bar\":[{\"error_x\":{\"color\":\"#2a3f5f\"},\"error_y\":{\"color\":\"#2a3f5f\"},\"marker\":{\"line\":{\"color\":\"white\",\"width\":0.5},\"pattern\":{\"fillmode\":\"overlay\",\"size\":10,\"solidity\":0.2}},\"type\":\"bar\"}],\"scattergeo\":[{\"type\":\"scattergeo\",\"marker\":{\"colorbar\":{\"outlinewidth\":0,\"ticks\":\"\"}}}],\"scatterpolar\":[{\"type\":\"scatterpolar\",\"marker\":{\"colorbar\":{\"outlinewidth\":0,\"ticks\":\"\"}}}],\"histogram\":[{\"marker\":{\"pattern\":{\"fillmode\":\"overlay\",\"size\":10,\"solidity\":0.2}},\"type\":\"histogram\"}],\"scattergl\":[{\"type\":\"scattergl\",\"marker\":{\"colorbar\":{\"outlinewidth\":0,\"ticks\":\"\"}}}],\"scatter3d\":[{\"type\":\"scatter3d\",\"line\":{\"colorbar\":{\"outlinewidth\":0,\"ticks\":\"\"}},\"marker\":{\"colorbar\":{\"outlinewidth\":0,\"ticks\":\"\"}}}],\"scattermapbox\":[{\"type\":\"scattermapbox\",\"marker\":{\"colorbar\":{\"outlinewidth\":0,\"ticks\":\"\"}}}],\"scatterternary\":[{\"type\":\"scatterternary\",\"marker\":{\"colorbar\":{\"outlinewidth\":0,\"ticks\":\"\"}}}],\"scattercarpet\":[{\"type\":\"scattercarpet\",\"marker\":{\"colorbar\":{\"outlinewidth\":0,\"ticks\":\"\"}}}],\"carpet\":[{\"aaxis\":{\"endlinecolor\":\"#2a3f5f\",\"gridcolor\":\"#C8D4E3\",\"linecolor\":\"#C8D4E3\",\"minorgridcolor\":\"#C8D4E3\",\"startlinecolor\":\"#2a3f5f\"},\"baxis\":{\"endlinecolor\":\"#2a3f5f\",\"gridcolor\":\"#C8D4E3\",\"linecolor\":\"#C8D4E3\",\"minorgridcolor\":\"#C8D4E3\",\"startlinecolor\":\"#2a3f5f\"},\"type\":\"carpet\"}],\"table\":[{\"cells\":{\"fill\":{\"color\":\"#EBF0F8\"},\"line\":{\"color\":\"white\"}},\"header\":{\"fill\":{\"color\":\"#C8D4E3\"},\"line\":{\"color\":\"white\"}},\"type\":\"table\"}],\"barpolar\":[{\"marker\":{\"line\":{\"color\":\"white\",\"width\":0.5},\"pattern\":{\"fillmode\":\"overlay\",\"size\":10,\"solidity\":0.2}},\"type\":\"barpolar\"}],\"pie\":[{\"automargin\":true,\"type\":\"pie\"}]},\"layout\":{\"autotypenumbers\":\"strict\",\"colorway\":[\"#636efa\",\"#EF553B\",\"#00cc96\",\"#ab63fa\",\"#FFA15A\",\"#19d3f3\",\"#FF6692\",\"#B6E880\",\"#FF97FF\",\"#FECB52\"],\"font\":{\"color\":\"#2a3f5f\"},\"hovermode\":\"closest\",\"hoverlabel\":{\"align\":\"left\"},\"paper_bgcolor\":\"white\",\"plot_bgcolor\":\"white\",\"polar\":{\"bgcolor\":\"white\",\"angularaxis\":{\"gridcolor\":\"#EBF0F8\",\"linecolor\":\"#EBF0F8\",\"ticks\":\"\"},\"radialaxis\":{\"gridcolor\":\"#EBF0F8\",\"linecolor\":\"#EBF0F8\",\"ticks\":\"\"}},\"ternary\":{\"bgcolor\":\"white\",\"aaxis\":{\"gridcolor\":\"#DFE8F3\",\"linecolor\":\"#A2B1C6\",\"ticks\":\"\"},\"baxis\":{\"gridcolor\":\"#DFE8F3\",\"linecolor\":\"#A2B1C6\",\"ticks\":\"\"},\"caxis\":{\"gridcolor\":\"#DFE8F3\",\"linecolor\":\"#A2B1C6\",\"ticks\":\"\"}},\"coloraxis\":{\"colorbar\":{\"outlinewidth\":0,\"ticks\":\"\"}},\"colorscale\":{\"sequential\":[[0.0,\"#0d0887\"],[0.1111111111111111,\"#46039f\"],[0.2222222222222222,\"#7201a8\"],[0.3333333333333333,\"#9c179e\"],[0.4444444444444444,\"#bd3786\"],[0.5555555555555556,\"#d8576b\"],[0.6666666666666666,\"#ed7953\"],[0.7777777777777778,\"#fb9f3a\"],[0.8888888888888888,\"#fdca26\"],[1.0,\"#f0f921\"]],\"sequentialminus\":[[0.0,\"#0d0887\"],[0.1111111111111111,\"#46039f\"],[0.2222222222222222,\"#7201a8\"],[0.3333333333333333,\"#9c179e\"],[0.4444444444444444,\"#bd3786\"],[0.5555555555555556,\"#d8576b\"],[0.6666666666666666,\"#ed7953\"],[0.7777777777777778,\"#fb9f3a\"],[0.8888888888888888,\"#fdca26\"],[1.0,\"#f0f921\"]],\"diverging\":[[0,\"#8e0152\"],[0.1,\"#c51b7d\"],[0.2,\"#de77ae\"],[0.3,\"#f1b6da\"],[0.4,\"#fde0ef\"],[0.5,\"#f7f7f7\"],[0.6,\"#e6f5d0\"],[0.7,\"#b8e186\"],[0.8,\"#7fbc41\"],[0.9,\"#4d9221\"],[1,\"#276419\"]]},\"xaxis\":{\"gridcolor\":\"#EBF0F8\",\"linecolor\":\"#EBF0F8\",\"ticks\":\"\",\"title\":{\"standoff\":15},\"zerolinecolor\":\"#EBF0F8\",\"automargin\":true,\"zerolinewidth\":2},\"yaxis\":{\"gridcolor\":\"#EBF0F8\",\"linecolor\":\"#EBF0F8\",\"ticks\":\"\",\"title\":{\"standoff\":15},\"zerolinecolor\":\"#EBF0F8\",\"automargin\":true,\"zerolinewidth\":2},\"scene\":{\"xaxis\":{\"backgroundcolor\":\"white\",\"gridcolor\":\"#DFE8F3\",\"linecolor\":\"#EBF0F8\",\"showbackground\":true,\"ticks\":\"\",\"zerolinecolor\":\"#EBF0F8\",\"gridwidth\":2},\"yaxis\":{\"backgroundcolor\":\"white\",\"gridcolor\":\"#DFE8F3\",\"linecolor\":\"#EBF0F8\",\"showbackground\":true,\"ticks\":\"\",\"zerolinecolor\":\"#EBF0F8\",\"gridwidth\":2},\"zaxis\":{\"backgroundcolor\":\"white\",\"gridcolor\":\"#DFE8F3\",\"linecolor\":\"#EBF0F8\",\"showbackground\":true,\"ticks\":\"\",\"zerolinecolor\":\"#EBF0F8\",\"gridwidth\":2}},\"shapedefaults\":{\"line\":{\"color\":\"#2a3f5f\"}},\"annotationdefaults\":{\"arrowcolor\":\"#2a3f5f\",\"arrowhead\":0,\"arrowwidth\":1},\"geo\":{\"bgcolor\":\"white\",\"landcolor\":\"white\",\"subunitcolor\":\"#C8D4E3\",\"showland\":true,\"showlakes\":true,\"lakecolor\":\"white\"},\"title\":{\"x\":0.05},\"mapbox\":{\"style\":\"light\"}}},\"title\":{\"text\":\"Top 10 Most Popular Items\"},\"xaxis\":{\"title\":{\"text\":\"Item Name\"}},\"yaxis\":{\"title\":{\"text\":\"Total Quantity Sold\"}}},                        {\"responsive\": true}                    ).then(function(){\n",
       "                            \n",
       "var gd = document.getElementById('b1c31abd-d9fd-4efe-93fb-d7491bee9090');\n",
       "var x = new MutationObserver(function (mutations, observer) {{\n",
       "        var display = window.getComputedStyle(gd).display;\n",
       "        if (!display || display === 'none') {{\n",
       "            console.log([gd, 'removed!']);\n",
       "            Plotly.purge(gd);\n",
       "            observer.disconnect();\n",
       "        }}\n",
       "}});\n",
       "\n",
       "// Listen for the removal of the full notebook cells\n",
       "var notebookContainer = gd.closest('#notebook-container');\n",
       "if (notebookContainer) {{\n",
       "    x.observe(notebookContainer, {childList: true});\n",
       "}}\n",
       "\n",
       "// Listen for the clearing of the current output cell\n",
       "var outputEl = gd.closest('.output');\n",
       "if (outputEl) {{\n",
       "    x.observe(outputEl, {childList: true});\n",
       "}}\n",
       "\n",
       "                        })                };                });            </script>        </div>"
      ]
     },
     "metadata": {},
     "output_type": "display_data"
    }
   ],
   "source": [
    "# Calculate item popularity - top 10\n",
    "item_popularity = data.groupby('Itemname')['Quantity'].sum().sort_values(ascending=False)\n",
    "\n",
    "top_n = 10\n",
    "fig = go.Figure()\n",
    "fig.add_trace(go.Bar(x=item_popularity.index[:top_n], y=item_popularity.values[:top_n],\n",
    "                     text=item_popularity.values[:top_n], textposition='auto',\n",
    "                     marker=dict(color='skyblue')))\n",
    "fig.update_layout(title=f'Top {top_n} Most Popular Items',\n",
    "                  xaxis_title='Item Name', yaxis_title='Total Quantity Sold')\n",
    "fig.show()"
   ]
  },
  {
   "cell_type": "markdown",
   "id": "6edd1d35-b78e-4bb9-8bce-0329644fe21d",
   "metadata": {},
   "source": [
    "Bananas are the most popular items sold at the store"
   ]
  },
  {
   "cell_type": "code",
   "execution_count": 20,
   "id": "9e9a89ce-62fa-4f91-bbfb-422b70709fd3",
   "metadata": {},
   "outputs": [],
   "source": [
    "# Calculate average quantity and spending per customer\n",
    "customer_behavior = data.groupby('CustomerID').agg({'Quantity': 'mean', 'Price': 'sum'}).reset_index()\n",
    "\n",
    "# Create a DataFrame to display the values\n",
    "table_data = pd.DataFrame({\n",
    "    'CustomerID': customer_behavior['CustomerID'],\n",
    "    'Average Quantity': customer_behavior['Quantity'],\n",
    "    'Total Spending': customer_behavior['Price']\n",
    "})"
   ]
  },
  {
   "cell_type": "code",
   "execution_count": 21,
   "id": "acc50ec2-8867-4968-b1c1-c7d8a15d206c",
   "metadata": {},
   "outputs": [
    {
     "data": {
      "application/vnd.plotly.v1+json": {
       "config": {
        "plotlyServerURL": "https://plot.ly"
       },
       "data": [
        {
         "marker": {
          "color": "coral",
          "size": 10
         },
         "mode": "markers",
         "text": [
          10504,
          10588,
          10826,
          11113,
          11267,
          11373,
          11430,
          11644,
          11752,
          11754,
          12550,
          12759,
          12777,
          12894,
          12951,
          13350,
          13413,
          13560,
          13601,
          13996,
          14018,
          14479,
          14594,
          14668,
          14869,
          15037,
          15290,
          15320,
          15378,
          15639,
          15790,
          15870,
          15876,
          15877,
          15938,
          15974,
          16027,
          16415,
          16469,
          16539,
          16613,
          16666,
          16844,
          16891,
          17005,
          17508,
          17679,
          17772,
          17821,
          18108,
          18132,
          18416,
          18450,
          18579,
          18782,
          18944,
          19038,
          19153,
          19478,
          19711,
          19774,
          19850,
          20072,
          20321,
          20351,
          20696,
          20909,
          21032,
          21035,
          21114,
          21268,
          21763,
          21868,
          22590,
          22613,
          22752,
          22764,
          22889,
          23073,
          23154,
          23412,
          23748,
          23884,
          24468,
          24493,
          25149,
          25378,
          25485,
          25656,
          25803,
          25874,
          26004,
          26046,
          26139,
          26307,
          26455,
          26627,
          26938,
          27080,
          27125,
          27376,
          27406,
          27433,
          27600,
          27619,
          28431,
          28715,
          28798,
          29519,
          29798,
          29871,
          29955,
          30221,
          30445,
          30543,
          30570,
          30621,
          30936,
          31127,
          31279,
          32074,
          32140,
          32332,
          32602,
          32813,
          32827,
          32905,
          33260,
          33323,
          33668,
          34087,
          34423,
          34539,
          34679,
          34687,
          34870,
          35074,
          35115,
          35384,
          35705,
          35709,
          35979,
          36019,
          36132,
          36298,
          36694,
          36719,
          37013,
          37152,
          37245,
          37403,
          37639,
          37686,
          37832,
          38011,
          38405,
          38536,
          38643,
          39192,
          39639,
          39724,
          39792,
          39902,
          39921,
          40115,
          40205,
          40389,
          40508,
          40800,
          40946,
          41003,
          41055,
          41440,
          41510,
          41629,
          41923,
          42281,
          42445,
          42567,
          42602,
          42722,
          42831,
          42926,
          43017,
          43169,
          43275,
          43327,
          43594,
          43681,
          43702,
          43704,
          43933,
          43975,
          44065,
          44183,
          44222,
          44236,
          44262,
          44502,
          44616,
          45015,
          45049,
          45060,
          45063,
          45064,
          45369,
          45410,
          45531,
          45811,
          46249,
          46399,
          46419,
          46426,
          46523,
          47285,
          47387,
          47681,
          47892,
          48098,
          48716,
          48912,
          48960,
          49110,
          49195,
          49638,
          49645,
          50407,
          50473,
          50813,
          50919,
          51032,
          51260,
          51336,
          51604,
          51682,
          52161,
          52194,
          52239,
          52255,
          52267,
          52299,
          52369,
          52711,
          53252,
          53334,
          53364,
          53368,
          53407,
          53486,
          53527,
          53609,
          53719,
          53723,
          54133,
          54178,
          54206,
          54225,
          54358,
          54793,
          54896,
          54970,
          55091,
          55267,
          55304,
          55321,
          55371,
          55421,
          55423,
          55506,
          55592,
          55704,
          55885,
          56067,
          56145,
          56291,
          57198,
          58046,
          58613,
          58893,
          59094,
          59237,
          59255,
          59416,
          59580,
          60088,
          60252,
          60271,
          60275,
          60351,
          60600,
          60944,
          61198,
          61230,
          61399,
          61496,
          61567,
          61738,
          61753,
          62431,
          62667,
          63008,
          63032,
          63057,
          63124,
          63217,
          63287,
          63681,
          63813,
          64093,
          64324,
          64367,
          64821,
          64854,
          65291,
          65376,
          65508,
          65941,
          66106,
          67240,
          67685,
          68017,
          68259,
          68313,
          68417,
          68571,
          68861,
          68912,
          69005,
          69123,
          69455,
          69611,
          69784,
          69838,
          69993,
          70126,
          70520,
          70748,
          70781,
          71236,
          71310,
          71377,
          71628,
          71663,
          71938,
          71987,
          72262,
          72279,
          72390,
          72611,
          72981,
          73266,
          73288,
          73544,
          73550,
          73613,
          73732,
          73789,
          73818,
          74271,
          74277,
          74383,
          74386,
          74773,
          74784,
          74910,
          75915,
          75967,
          76052,
          76128,
          76164,
          76168,
          76488,
          76583,
          76637,
          76666,
          76765,
          76946,
          76973,
          77559,
          77640,
          77765,
          77988,
          78106,
          78128,
          78268,
          78279,
          78342,
          78411,
          78522,
          78642,
          78889,
          78915,
          79183,
          79689,
          79964,
          80128,
          80292,
          80320,
          80346,
          80708,
          80925,
          81031,
          81260,
          81294,
          81556,
          82102,
          82670,
          82829,
          83029,
          83035,
          83049,
          83132,
          83603,
          83712,
          83735,
          83754,
          83761,
          84010,
          84097,
          84523,
          84568,
          84684,
          84871,
          84964,
          85303,
          85311,
          85393,
          85652,
          85895,
          85903,
          85960,
          86475,
          86586,
          86740,
          86833,
          86986,
          87130,
          87889,
          88065,
          88386,
          88554,
          88751,
          88784,
          88820,
          88923,
          88999,
          89244,
          89472,
          89637,
          89823,
          89941,
          90037,
          90160,
          90241,
          90362,
          90438,
          91077,
          91211,
          91284,
          91418,
          91421,
          91572,
          91832,
          92263,
          92271,
          92650,
          92652,
          92961,
          92962,
          93596,
          93698,
          93890,
          93949,
          94391,
          94737,
          94859,
          95259,
          95462,
          95622,
          95776,
          95924,
          96010,
          96136,
          96375,
          96384,
          96485,
          96839,
          96845,
          97240,
          97428,
          97433,
          98392,
          98394,
          98741,
          98766,
          98833,
          98942,
          99122,
          99162
         ],
         "type": "scatter",
         "x": [
          1,
          5,
          1,
          3,
          1,
          2,
          3,
          5,
          4,
          3,
          1,
          3,
          5,
          5,
          5,
          3,
          2,
          1,
          2,
          1,
          5,
          5,
          2,
          4,
          3,
          1,
          5,
          5,
          3,
          2,
          5,
          4,
          1,
          4,
          5,
          4,
          4,
          4,
          5,
          1,
          5,
          1,
          5,
          3,
          5,
          2,
          3,
          2,
          3,
          4,
          3,
          2,
          1,
          3,
          1,
          5,
          5,
          2,
          5,
          3,
          5,
          3,
          3,
          5,
          5,
          2,
          1,
          3,
          4,
          5,
          5,
          3,
          4,
          5,
          3,
          3,
          4,
          4,
          1,
          3,
          2,
          2,
          1,
          3,
          3,
          1,
          3,
          2,
          4,
          1,
          2,
          4,
          3,
          5,
          3,
          5,
          3,
          5,
          1,
          5,
          3,
          4,
          5,
          1,
          5,
          1,
          5,
          3,
          2,
          3,
          1,
          2,
          2,
          3,
          5,
          4,
          1,
          1,
          4,
          1,
          3,
          1,
          1,
          2,
          1,
          5,
          1,
          2,
          3,
          2,
          2,
          3,
          3,
          3,
          4,
          5,
          3,
          1,
          5,
          1,
          5,
          1,
          5,
          5,
          1,
          4,
          1,
          4,
          4,
          4,
          3,
          2,
          4,
          4,
          4,
          4,
          1,
          2,
          5,
          2,
          3,
          3,
          4,
          4,
          3,
          1,
          2,
          5,
          5,
          3,
          3,
          4,
          1,
          4,
          2,
          4,
          4,
          3,
          5,
          3,
          4,
          2,
          3,
          5,
          4,
          3,
          1,
          1,
          2,
          3,
          1,
          2,
          2,
          5,
          1,
          4,
          2,
          1,
          4,
          3,
          1,
          4,
          2,
          1,
          5,
          4,
          4,
          5,
          2,
          5,
          2,
          3.5,
          2,
          1,
          3,
          4,
          2,
          3,
          1,
          2,
          1,
          4,
          4,
          5,
          4,
          3,
          5,
          2,
          3,
          3,
          4,
          5,
          1,
          2,
          1,
          2,
          2,
          2,
          2,
          5,
          5,
          3,
          3,
          5,
          3,
          4,
          5,
          1,
          4,
          4,
          1,
          2,
          2,
          4,
          2,
          1,
          5,
          3,
          3,
          5,
          2,
          2,
          1,
          2,
          2,
          3,
          1,
          1,
          1,
          2,
          4,
          3,
          5,
          5,
          3,
          4,
          3,
          1,
          3,
          4,
          2,
          3,
          4,
          2,
          3,
          1,
          3,
          1,
          4,
          1,
          4,
          4,
          3,
          4,
          1,
          5,
          2,
          1,
          1,
          4,
          3,
          5,
          4,
          3,
          2,
          4,
          1,
          2,
          4,
          4,
          5,
          5,
          4,
          1,
          1,
          1,
          5,
          2,
          5,
          5,
          2,
          2,
          3,
          1,
          3,
          1,
          5,
          3,
          3,
          5,
          2,
          3,
          2,
          4,
          3,
          5,
          4,
          1,
          4,
          4,
          3,
          2,
          2,
          4,
          4,
          4,
          4,
          3,
          3,
          4,
          3,
          1,
          1,
          5,
          5,
          5,
          5,
          4,
          1,
          4,
          1,
          3,
          4,
          4,
          1,
          5,
          1,
          4,
          1,
          4,
          3,
          3,
          1,
          1,
          4,
          5,
          3,
          2,
          2,
          1,
          2,
          1,
          3,
          1,
          2,
          4,
          3,
          4,
          5,
          1,
          5,
          3,
          4,
          4,
          1,
          3,
          3,
          5,
          5,
          3,
          5,
          4,
          1,
          4,
          2,
          1,
          3,
          1,
          1,
          5,
          5,
          4,
          5,
          5,
          3,
          3,
          1,
          2,
          1,
          1,
          2,
          1,
          1,
          3,
          3,
          2,
          5,
          1,
          4,
          2,
          4,
          1,
          1,
          5,
          5,
          2,
          1,
          4,
          5,
          4,
          5,
          1,
          4,
          5,
          1,
          2,
          5,
          2,
          5,
          5,
          2,
          5,
          5,
          2,
          4,
          1,
          3,
          3,
          2,
          1,
          2,
          5,
          3,
          1,
          1,
          2,
          4,
          3,
          1,
          3,
          5,
          5,
          2,
          3,
          4,
          4,
          2,
          1,
          2,
          2,
          2,
          1,
          3,
          3,
          4,
          4,
          2,
          4,
          1,
          3,
          3,
          1,
          4,
          5,
          2,
          1,
          2,
          1,
          3
         ],
         "y": [
          2.04,
          5.5,
          5.67,
          8.84,
          8.87,
          6.69,
          4.85,
          4.67,
          6.06,
          1.18,
          9.13,
          9.66,
          6.56,
          3.02,
          8.81,
          1.55,
          3.4,
          6.93,
          5.08,
          5.21,
          2.16,
          7.05,
          8.03,
          6.78,
          8.54,
          8.66,
          3.82,
          9.25,
          4.9,
          9.53,
          4.08,
          2.25,
          8.41,
          8.71,
          4.05,
          5.37,
          4.77,
          2.66,
          9.93,
          2.33,
          9.64,
          3.66,
          3.09,
          2.29,
          2.89,
          8.23,
          6.44,
          9.62,
          5.26,
          9.84,
          4.18,
          3.97,
          8.51,
          6.68,
          3,
          4.84,
          9.43,
          9.28,
          1.58,
          7.12,
          8.51,
          9.67,
          7.67,
          9.26,
          7.09,
          1.22,
          9.28,
          5.3,
          6.81,
          3.05,
          5.11,
          3.48,
          9.6,
          2.62,
          8.14,
          8.48,
          7.51,
          8.1,
          8.88,
          3.54,
          4.14,
          4.02,
          6.35,
          5.35,
          4.33,
          2.65,
          2.01,
          6.88,
          4.94,
          9.04,
          2.84,
          1.33,
          8.68,
          4.91,
          1.37,
          8.49,
          4.99,
          3.73,
          2.25,
          9.53,
          9.31,
          7.91,
          5.84,
          9.78,
          2.48,
          7.15,
          1.64,
          1.59,
          4.08,
          7.71,
          9.7,
          6.66,
          2.08,
          4.65,
          8.75,
          2.58,
          7.74,
          4.21,
          5.66,
          7.87,
          6.36,
          6.47,
          6.13,
          2.93,
          3,
          5.56,
          4.53,
          9.94,
          5.15,
          2.67,
          7.88,
          9.75,
          2.4,
          8.15,
          7.37,
          9.72,
          8.07,
          2.92,
          5.32,
          5,
          2.22,
          2.94,
          7.22,
          6.25,
          4.26,
          3.67,
          6.15,
          5.74,
          2.25,
          7.38,
          3.69,
          9.64,
          4.05,
          1.27,
          1.46,
          4.78,
          7.5,
          4.5,
          5.25,
          7.28,
          2.01,
          4.14,
          7.92,
          4.85,
          1.6,
          3.71,
          4.86,
          8.68,
          8.03,
          9.79,
          3.11,
          3.89,
          2.32,
          4.7,
          1.21,
          7.43,
          1.41,
          9.84,
          4.7,
          4.78,
          9.88,
          1.96,
          5.41,
          2.58,
          9.15,
          1.21,
          5.86,
          1.59,
          7.2,
          1.55,
          3.63,
          8.15,
          4.23,
          2.71,
          3.85,
          4.9,
          4.9,
          9.41,
          1.61,
          7.47,
          2.81,
          1.83,
          8.75,
          8.5,
          1.98,
          5.87,
          9.09,
          7.92,
          7.82,
          6.42,
          6.91,
          11.49,
          8.91,
          8,
          8.22,
          8.4,
          8.31,
          1.59,
          2.89,
          8.71,
          3.52,
          4.45,
          4.6,
          3.98,
          7.38,
          9.18,
          4.66,
          3.48,
          3.19,
          7.41,
          9.75,
          6.41,
          5.85,
          4.2,
          6.16,
          6.03,
          4.88,
          5.66,
          7.26,
          6.6,
          8.3,
          9.72,
          9.82,
          6.91,
          2.64,
          1.64,
          4.35,
          7.66,
          4.08,
          1.04,
          8.98,
          7.82,
          9.1,
          4.19,
          6.77,
          5.39,
          5.28,
          5.29,
          4.09,
          9.32,
          5.06,
          5.57,
          4.62,
          1.12,
          4.24,
          4.34,
          3.22,
          8.79,
          4.49,
          6.04,
          8.56,
          1.25,
          1.48,
          8.26,
          5.76,
          4.54,
          4.69,
          5.79,
          7.46,
          4.12,
          7.12,
          8.11,
          8.93,
          8.2,
          7.78,
          1.41,
          5.24,
          7.35,
          6.21,
          1.49,
          9.52,
          6.58,
          6.37,
          3.2,
          3.48,
          6.32,
          5.74,
          7.89,
          3.67,
          9.5,
          2.55,
          2.63,
          5.8,
          4.38,
          4.32,
          5.81,
          7.25,
          3.85,
          2.76,
          8.41,
          1.12,
          5.32,
          7.98,
          8.04,
          2.73,
          6.66,
          9.83,
          1.15,
          5.62,
          4.65,
          3.01,
          2.82,
          9.14,
          7.97,
          1.5,
          3.95,
          4.85,
          6.04,
          1.26,
          7.83,
          2.87,
          8.83,
          4.82,
          7.64,
          3.85,
          3.64,
          9.5,
          9.61,
          3,
          3.24,
          8.78,
          8.92,
          6.38,
          8.84,
          8.71,
          9.11,
          6.85,
          5.14,
          2.86,
          8.86,
          8.75,
          5.58,
          6.98,
          9.04,
          3.43,
          9.52,
          3.35,
          3.35,
          2.59,
          1.9,
          6.36,
          4.24,
          3.88,
          8.2,
          4.61,
          2.29,
          7.07,
          6.41,
          1.33,
          8.09,
          7.34,
          5.04,
          9.87,
          2.38,
          8.33,
          6.47,
          2.65,
          4.89,
          6.12,
          4.43,
          5.69,
          5.44,
          3.82,
          6.12,
          2.45,
          2.62,
          2.89,
          9.94,
          3.69,
          1.39,
          4.53,
          2.68,
          8.97,
          9.69,
          8.45,
          4.33,
          1.13,
          2.27,
          3.05,
          8.42,
          2.48,
          1.71,
          3,
          3.22,
          7.25,
          6.09,
          4.04,
          4.49,
          9.86,
          4.22,
          6.5,
          9.67,
          1.82,
          7.35,
          6.91,
          9.1,
          9.58,
          2.63,
          4.54,
          6.1,
          9.48,
          9.05,
          6.88,
          3.61,
          3.95,
          7.58,
          5.76,
          7.52,
          2.08,
          1.28,
          3.45,
          3.9,
          4.04,
          9.79,
          7.12,
          6.34,
          4.93,
          2.34,
          4.3,
          6.91,
          6.99,
          8.82,
          8.37,
          1.26,
          1.91,
          9.79,
          1.29,
          6.09,
          4.69,
          7.14,
          4.35,
          8.22,
          5.04,
          2.3,
          9.49,
          6.35,
          7.74,
          2.38,
          4.73,
          6.93,
          8.15,
          4.93,
          4.33,
          1.54,
          6.48,
          4.79,
          5.31,
          5.42,
          5.77,
          8.38,
          2.93,
          9.39,
          2.09,
          9.39,
          8.6,
          2.32,
          5.45,
          4.01,
          4.27,
          3.69,
          8.84,
          2.12,
          4.92,
          7.1,
          5.94,
          3.75,
          7.32,
          7.18,
          4.66,
          2.68,
          5.16,
          7.38,
          3.58,
          8.11,
          5.89,
          4.6,
          8.96,
          7.66,
          7.14
         ]
        },
        {
         "cells": {
          "values": [
           [
            10504,
            10588,
            10826,
            11113,
            11267,
            11373,
            11430,
            11644,
            11752,
            11754,
            12550,
            12759,
            12777,
            12894,
            12951,
            13350,
            13413,
            13560,
            13601,
            13996,
            14018,
            14479,
            14594,
            14668,
            14869,
            15037,
            15290,
            15320,
            15378,
            15639,
            15790,
            15870,
            15876,
            15877,
            15938,
            15974,
            16027,
            16415,
            16469,
            16539,
            16613,
            16666,
            16844,
            16891,
            17005,
            17508,
            17679,
            17772,
            17821,
            18108,
            18132,
            18416,
            18450,
            18579,
            18782,
            18944,
            19038,
            19153,
            19478,
            19711,
            19774,
            19850,
            20072,
            20321,
            20351,
            20696,
            20909,
            21032,
            21035,
            21114,
            21268,
            21763,
            21868,
            22590,
            22613,
            22752,
            22764,
            22889,
            23073,
            23154,
            23412,
            23748,
            23884,
            24468,
            24493,
            25149,
            25378,
            25485,
            25656,
            25803,
            25874,
            26004,
            26046,
            26139,
            26307,
            26455,
            26627,
            26938,
            27080,
            27125,
            27376,
            27406,
            27433,
            27600,
            27619,
            28431,
            28715,
            28798,
            29519,
            29798,
            29871,
            29955,
            30221,
            30445,
            30543,
            30570,
            30621,
            30936,
            31127,
            31279,
            32074,
            32140,
            32332,
            32602,
            32813,
            32827,
            32905,
            33260,
            33323,
            33668,
            34087,
            34423,
            34539,
            34679,
            34687,
            34870,
            35074,
            35115,
            35384,
            35705,
            35709,
            35979,
            36019,
            36132,
            36298,
            36694,
            36719,
            37013,
            37152,
            37245,
            37403,
            37639,
            37686,
            37832,
            38011,
            38405,
            38536,
            38643,
            39192,
            39639,
            39724,
            39792,
            39902,
            39921,
            40115,
            40205,
            40389,
            40508,
            40800,
            40946,
            41003,
            41055,
            41440,
            41510,
            41629,
            41923,
            42281,
            42445,
            42567,
            42602,
            42722,
            42831,
            42926,
            43017,
            43169,
            43275,
            43327,
            43594,
            43681,
            43702,
            43704,
            43933,
            43975,
            44065,
            44183,
            44222,
            44236,
            44262,
            44502,
            44616,
            45015,
            45049,
            45060,
            45063,
            45064,
            45369,
            45410,
            45531,
            45811,
            46249,
            46399,
            46419,
            46426,
            46523,
            47285,
            47387,
            47681,
            47892,
            48098,
            48716,
            48912,
            48960,
            49110,
            49195,
            49638,
            49645,
            50407,
            50473,
            50813,
            50919,
            51032,
            51260,
            51336,
            51604,
            51682,
            52161,
            52194,
            52239,
            52255,
            52267,
            52299,
            52369,
            52711,
            53252,
            53334,
            53364,
            53368,
            53407,
            53486,
            53527,
            53609,
            53719,
            53723,
            54133,
            54178,
            54206,
            54225,
            54358,
            54793,
            54896,
            54970,
            55091,
            55267,
            55304,
            55321,
            55371,
            55421,
            55423,
            55506,
            55592,
            55704,
            55885,
            56067,
            56145,
            56291,
            57198,
            58046,
            58613,
            58893,
            59094,
            59237,
            59255,
            59416,
            59580,
            60088,
            60252,
            60271,
            60275,
            60351,
            60600,
            60944,
            61198,
            61230,
            61399,
            61496,
            61567,
            61738,
            61753,
            62431,
            62667,
            63008,
            63032,
            63057,
            63124,
            63217,
            63287,
            63681,
            63813,
            64093,
            64324,
            64367,
            64821,
            64854,
            65291,
            65376,
            65508,
            65941,
            66106,
            67240,
            67685,
            68017,
            68259,
            68313,
            68417,
            68571,
            68861,
            68912,
            69005,
            69123,
            69455,
            69611,
            69784,
            69838,
            69993,
            70126,
            70520,
            70748,
            70781,
            71236,
            71310,
            71377,
            71628,
            71663,
            71938,
            71987,
            72262,
            72279,
            72390,
            72611,
            72981,
            73266,
            73288,
            73544,
            73550,
            73613,
            73732,
            73789,
            73818,
            74271,
            74277,
            74383,
            74386,
            74773,
            74784,
            74910,
            75915,
            75967,
            76052,
            76128,
            76164,
            76168,
            76488,
            76583,
            76637,
            76666,
            76765,
            76946,
            76973,
            77559,
            77640,
            77765,
            77988,
            78106,
            78128,
            78268,
            78279,
            78342,
            78411,
            78522,
            78642,
            78889,
            78915,
            79183,
            79689,
            79964,
            80128,
            80292,
            80320,
            80346,
            80708,
            80925,
            81031,
            81260,
            81294,
            81556,
            82102,
            82670,
            82829,
            83029,
            83035,
            83049,
            83132,
            83603,
            83712,
            83735,
            83754,
            83761,
            84010,
            84097,
            84523,
            84568,
            84684,
            84871,
            84964,
            85303,
            85311,
            85393,
            85652,
            85895,
            85903,
            85960,
            86475,
            86586,
            86740,
            86833,
            86986,
            87130,
            87889,
            88065,
            88386,
            88554,
            88751,
            88784,
            88820,
            88923,
            88999,
            89244,
            89472,
            89637,
            89823,
            89941,
            90037,
            90160,
            90241,
            90362,
            90438,
            91077,
            91211,
            91284,
            91418,
            91421,
            91572,
            91832,
            92263,
            92271,
            92650,
            92652,
            92961,
            92962,
            93596,
            93698,
            93890,
            93949,
            94391,
            94737,
            94859,
            95259,
            95462,
            95622,
            95776,
            95924,
            96010,
            96136,
            96375,
            96384,
            96485,
            96839,
            96845,
            97240,
            97428,
            97433,
            98392,
            98394,
            98741,
            98766,
            98833,
            98942,
            99122,
            99162
           ],
           [
            1,
            5,
            1,
            3,
            1,
            2,
            3,
            5,
            4,
            3,
            1,
            3,
            5,
            5,
            5,
            3,
            2,
            1,
            2,
            1,
            5,
            5,
            2,
            4,
            3,
            1,
            5,
            5,
            3,
            2,
            5,
            4,
            1,
            4,
            5,
            4,
            4,
            4,
            5,
            1,
            5,
            1,
            5,
            3,
            5,
            2,
            3,
            2,
            3,
            4,
            3,
            2,
            1,
            3,
            1,
            5,
            5,
            2,
            5,
            3,
            5,
            3,
            3,
            5,
            5,
            2,
            1,
            3,
            4,
            5,
            5,
            3,
            4,
            5,
            3,
            3,
            4,
            4,
            1,
            3,
            2,
            2,
            1,
            3,
            3,
            1,
            3,
            2,
            4,
            1,
            2,
            4,
            3,
            5,
            3,
            5,
            3,
            5,
            1,
            5,
            3,
            4,
            5,
            1,
            5,
            1,
            5,
            3,
            2,
            3,
            1,
            2,
            2,
            3,
            5,
            4,
            1,
            1,
            4,
            1,
            3,
            1,
            1,
            2,
            1,
            5,
            1,
            2,
            3,
            2,
            2,
            3,
            3,
            3,
            4,
            5,
            3,
            1,
            5,
            1,
            5,
            1,
            5,
            5,
            1,
            4,
            1,
            4,
            4,
            4,
            3,
            2,
            4,
            4,
            4,
            4,
            1,
            2,
            5,
            2,
            3,
            3,
            4,
            4,
            3,
            1,
            2,
            5,
            5,
            3,
            3,
            4,
            1,
            4,
            2,
            4,
            4,
            3,
            5,
            3,
            4,
            2,
            3,
            5,
            4,
            3,
            1,
            1,
            2,
            3,
            1,
            2,
            2,
            5,
            1,
            4,
            2,
            1,
            4,
            3,
            1,
            4,
            2,
            1,
            5,
            4,
            4,
            5,
            2,
            5,
            2,
            3.5,
            2,
            1,
            3,
            4,
            2,
            3,
            1,
            2,
            1,
            4,
            4,
            5,
            4,
            3,
            5,
            2,
            3,
            3,
            4,
            5,
            1,
            2,
            1,
            2,
            2,
            2,
            2,
            5,
            5,
            3,
            3,
            5,
            3,
            4,
            5,
            1,
            4,
            4,
            1,
            2,
            2,
            4,
            2,
            1,
            5,
            3,
            3,
            5,
            2,
            2,
            1,
            2,
            2,
            3,
            1,
            1,
            1,
            2,
            4,
            3,
            5,
            5,
            3,
            4,
            3,
            1,
            3,
            4,
            2,
            3,
            4,
            2,
            3,
            1,
            3,
            1,
            4,
            1,
            4,
            4,
            3,
            4,
            1,
            5,
            2,
            1,
            1,
            4,
            3,
            5,
            4,
            3,
            2,
            4,
            1,
            2,
            4,
            4,
            5,
            5,
            4,
            1,
            1,
            1,
            5,
            2,
            5,
            5,
            2,
            2,
            3,
            1,
            3,
            1,
            5,
            3,
            3,
            5,
            2,
            3,
            2,
            4,
            3,
            5,
            4,
            1,
            4,
            4,
            3,
            2,
            2,
            4,
            4,
            4,
            4,
            3,
            3,
            4,
            3,
            1,
            1,
            5,
            5,
            5,
            5,
            4,
            1,
            4,
            1,
            3,
            4,
            4,
            1,
            5,
            1,
            4,
            1,
            4,
            3,
            3,
            1,
            1,
            4,
            5,
            3,
            2,
            2,
            1,
            2,
            1,
            3,
            1,
            2,
            4,
            3,
            4,
            5,
            1,
            5,
            3,
            4,
            4,
            1,
            3,
            3,
            5,
            5,
            3,
            5,
            4,
            1,
            4,
            2,
            1,
            3,
            1,
            1,
            5,
            5,
            4,
            5,
            5,
            3,
            3,
            1,
            2,
            1,
            1,
            2,
            1,
            1,
            3,
            3,
            2,
            5,
            1,
            4,
            2,
            4,
            1,
            1,
            5,
            5,
            2,
            1,
            4,
            5,
            4,
            5,
            1,
            4,
            5,
            1,
            2,
            5,
            2,
            5,
            5,
            2,
            5,
            5,
            2,
            4,
            1,
            3,
            3,
            2,
            1,
            2,
            5,
            3,
            1,
            1,
            2,
            4,
            3,
            1,
            3,
            5,
            5,
            2,
            3,
            4,
            4,
            2,
            1,
            2,
            2,
            2,
            1,
            3,
            3,
            4,
            4,
            2,
            4,
            1,
            3,
            3,
            1,
            4,
            5,
            2,
            1,
            2,
            1,
            3
           ],
           [
            2.04,
            5.5,
            5.67,
            8.84,
            8.87,
            6.69,
            4.85,
            4.67,
            6.06,
            1.18,
            9.13,
            9.66,
            6.56,
            3.02,
            8.81,
            1.55,
            3.4,
            6.93,
            5.08,
            5.21,
            2.16,
            7.05,
            8.03,
            6.78,
            8.54,
            8.66,
            3.82,
            9.25,
            4.9,
            9.53,
            4.08,
            2.25,
            8.41,
            8.71,
            4.05,
            5.37,
            4.77,
            2.66,
            9.93,
            2.33,
            9.64,
            3.66,
            3.09,
            2.29,
            2.89,
            8.23,
            6.44,
            9.62,
            5.26,
            9.84,
            4.18,
            3.97,
            8.51,
            6.68,
            3,
            4.84,
            9.43,
            9.28,
            1.58,
            7.12,
            8.51,
            9.67,
            7.67,
            9.26,
            7.09,
            1.22,
            9.28,
            5.3,
            6.81,
            3.05,
            5.11,
            3.48,
            9.6,
            2.62,
            8.14,
            8.48,
            7.51,
            8.1,
            8.88,
            3.54,
            4.14,
            4.02,
            6.35,
            5.35,
            4.33,
            2.65,
            2.01,
            6.88,
            4.94,
            9.04,
            2.84,
            1.33,
            8.68,
            4.91,
            1.37,
            8.49,
            4.99,
            3.73,
            2.25,
            9.53,
            9.31,
            7.91,
            5.84,
            9.78,
            2.48,
            7.15,
            1.64,
            1.59,
            4.08,
            7.71,
            9.7,
            6.66,
            2.08,
            4.65,
            8.75,
            2.58,
            7.74,
            4.21,
            5.66,
            7.87,
            6.36,
            6.47,
            6.13,
            2.93,
            3,
            5.56,
            4.53,
            9.94,
            5.15,
            2.67,
            7.88,
            9.75,
            2.4,
            8.15,
            7.37,
            9.72,
            8.07,
            2.92,
            5.32,
            5,
            2.22,
            2.94,
            7.22,
            6.25,
            4.26,
            3.67,
            6.15,
            5.74,
            2.25,
            7.38,
            3.69,
            9.64,
            4.05,
            1.27,
            1.46,
            4.78,
            7.5,
            4.5,
            5.25,
            7.28,
            2.01,
            4.14,
            7.92,
            4.85,
            1.6,
            3.71,
            4.86,
            8.68,
            8.03,
            9.79,
            3.11,
            3.89,
            2.32,
            4.7,
            1.21,
            7.43,
            1.41,
            9.84,
            4.7,
            4.78,
            9.88,
            1.96,
            5.41,
            2.58,
            9.15,
            1.21,
            5.86,
            1.59,
            7.2,
            1.55,
            3.63,
            8.15,
            4.23,
            2.71,
            3.85,
            4.9,
            4.9,
            9.41,
            1.61,
            7.47,
            2.81,
            1.83,
            8.75,
            8.5,
            1.98,
            5.87,
            9.09,
            7.92,
            7.82,
            6.42,
            6.91,
            11.49,
            8.91,
            8,
            8.22,
            8.4,
            8.31,
            1.59,
            2.89,
            8.71,
            3.52,
            4.45,
            4.6,
            3.98,
            7.38,
            9.18,
            4.66,
            3.48,
            3.19,
            7.41,
            9.75,
            6.41,
            5.85,
            4.2,
            6.16,
            6.03,
            4.88,
            5.66,
            7.26,
            6.6,
            8.3,
            9.72,
            9.82,
            6.91,
            2.64,
            1.64,
            4.35,
            7.66,
            4.08,
            1.04,
            8.98,
            7.82,
            9.1,
            4.19,
            6.77,
            5.39,
            5.28,
            5.29,
            4.09,
            9.32,
            5.06,
            5.57,
            4.62,
            1.12,
            4.24,
            4.34,
            3.22,
            8.79,
            4.49,
            6.04,
            8.56,
            1.25,
            1.48,
            8.26,
            5.76,
            4.54,
            4.69,
            5.79,
            7.46,
            4.12,
            7.12,
            8.11,
            8.93,
            8.2,
            7.78,
            1.41,
            5.24,
            7.35,
            6.21,
            1.49,
            9.52,
            6.58,
            6.37,
            3.2,
            3.48,
            6.32,
            5.74,
            7.89,
            3.67,
            9.5,
            2.55,
            2.63,
            5.8,
            4.38,
            4.32,
            5.81,
            7.25,
            3.85,
            2.76,
            8.41,
            1.12,
            5.32,
            7.98,
            8.04,
            2.73,
            6.66,
            9.83,
            1.15,
            5.62,
            4.65,
            3.01,
            2.82,
            9.14,
            7.97,
            1.5,
            3.95,
            4.85,
            6.04,
            1.26,
            7.83,
            2.87,
            8.83,
            4.82,
            7.64,
            3.85,
            3.64,
            9.5,
            9.61,
            3,
            3.24,
            8.78,
            8.92,
            6.38,
            8.84,
            8.71,
            9.11,
            6.85,
            5.14,
            2.86,
            8.86,
            8.75,
            5.58,
            6.98,
            9.04,
            3.43,
            9.52,
            3.35,
            3.35,
            2.59,
            1.9,
            6.36,
            4.24,
            3.88,
            8.2,
            4.61,
            2.29,
            7.07,
            6.41,
            1.33,
            8.09,
            7.34,
            5.04,
            9.87,
            2.38,
            8.33,
            6.47,
            2.65,
            4.89,
            6.12,
            4.43,
            5.69,
            5.44,
            3.82,
            6.12,
            2.45,
            2.62,
            2.89,
            9.94,
            3.69,
            1.39,
            4.53,
            2.68,
            8.97,
            9.69,
            8.45,
            4.33,
            1.13,
            2.27,
            3.05,
            8.42,
            2.48,
            1.71,
            3,
            3.22,
            7.25,
            6.09,
            4.04,
            4.49,
            9.86,
            4.22,
            6.5,
            9.67,
            1.82,
            7.35,
            6.91,
            9.1,
            9.58,
            2.63,
            4.54,
            6.1,
            9.48,
            9.05,
            6.88,
            3.61,
            3.95,
            7.58,
            5.76,
            7.52,
            2.08,
            1.28,
            3.45,
            3.9,
            4.04,
            9.79,
            7.12,
            6.34,
            4.93,
            2.34,
            4.3,
            6.91,
            6.99,
            8.82,
            8.37,
            1.26,
            1.91,
            9.79,
            1.29,
            6.09,
            4.69,
            7.14,
            4.35,
            8.22,
            5.04,
            2.3,
            9.49,
            6.35,
            7.74,
            2.38,
            4.73,
            6.93,
            8.15,
            4.93,
            4.33,
            1.54,
            6.48,
            4.79,
            5.31,
            5.42,
            5.77,
            8.38,
            2.93,
            9.39,
            2.09,
            9.39,
            8.6,
            2.32,
            5.45,
            4.01,
            4.27,
            3.69,
            8.84,
            2.12,
            4.92,
            7.1,
            5.94,
            3.75,
            7.32,
            7.18,
            4.66,
            2.68,
            5.16,
            7.38,
            3.58,
            8.11,
            5.89,
            4.6,
            8.96,
            7.66,
            7.14
           ]
          ]
         },
         "header": {
          "values": [
           "CustomerID",
           "Average Quantity",
           "Total Spending"
          ]
         },
         "type": "table"
        }
       ],
       "layout": {
        "autosize": true,
        "template": {
         "data": {
          "bar": [
           {
            "error_x": {
             "color": "#2a3f5f"
            },
            "error_y": {
             "color": "#2a3f5f"
            },
            "marker": {
             "line": {
              "color": "white",
              "width": 0.5
             },
             "pattern": {
              "fillmode": "overlay",
              "size": 10,
              "solidity": 0.2
             }
            },
            "type": "bar"
           }
          ],
          "barpolar": [
           {
            "marker": {
             "line": {
              "color": "white",
              "width": 0.5
             },
             "pattern": {
              "fillmode": "overlay",
              "size": 10,
              "solidity": 0.2
             }
            },
            "type": "barpolar"
           }
          ],
          "carpet": [
           {
            "aaxis": {
             "endlinecolor": "#2a3f5f",
             "gridcolor": "#C8D4E3",
             "linecolor": "#C8D4E3",
             "minorgridcolor": "#C8D4E3",
             "startlinecolor": "#2a3f5f"
            },
            "baxis": {
             "endlinecolor": "#2a3f5f",
             "gridcolor": "#C8D4E3",
             "linecolor": "#C8D4E3",
             "minorgridcolor": "#C8D4E3",
             "startlinecolor": "#2a3f5f"
            },
            "type": "carpet"
           }
          ],
          "choropleth": [
           {
            "colorbar": {
             "outlinewidth": 0,
             "ticks": ""
            },
            "type": "choropleth"
           }
          ],
          "contour": [
           {
            "colorbar": {
             "outlinewidth": 0,
             "ticks": ""
            },
            "colorscale": [
             [
              0,
              "#0d0887"
             ],
             [
              0.1111111111111111,
              "#46039f"
             ],
             [
              0.2222222222222222,
              "#7201a8"
             ],
             [
              0.3333333333333333,
              "#9c179e"
             ],
             [
              0.4444444444444444,
              "#bd3786"
             ],
             [
              0.5555555555555556,
              "#d8576b"
             ],
             [
              0.6666666666666666,
              "#ed7953"
             ],
             [
              0.7777777777777778,
              "#fb9f3a"
             ],
             [
              0.8888888888888888,
              "#fdca26"
             ],
             [
              1,
              "#f0f921"
             ]
            ],
            "type": "contour"
           }
          ],
          "contourcarpet": [
           {
            "colorbar": {
             "outlinewidth": 0,
             "ticks": ""
            },
            "type": "contourcarpet"
           }
          ],
          "heatmap": [
           {
            "colorbar": {
             "outlinewidth": 0,
             "ticks": ""
            },
            "colorscale": [
             [
              0,
              "#0d0887"
             ],
             [
              0.1111111111111111,
              "#46039f"
             ],
             [
              0.2222222222222222,
              "#7201a8"
             ],
             [
              0.3333333333333333,
              "#9c179e"
             ],
             [
              0.4444444444444444,
              "#bd3786"
             ],
             [
              0.5555555555555556,
              "#d8576b"
             ],
             [
              0.6666666666666666,
              "#ed7953"
             ],
             [
              0.7777777777777778,
              "#fb9f3a"
             ],
             [
              0.8888888888888888,
              "#fdca26"
             ],
             [
              1,
              "#f0f921"
             ]
            ],
            "type": "heatmap"
           }
          ],
          "heatmapgl": [
           {
            "colorbar": {
             "outlinewidth": 0,
             "ticks": ""
            },
            "colorscale": [
             [
              0,
              "#0d0887"
             ],
             [
              0.1111111111111111,
              "#46039f"
             ],
             [
              0.2222222222222222,
              "#7201a8"
             ],
             [
              0.3333333333333333,
              "#9c179e"
             ],
             [
              0.4444444444444444,
              "#bd3786"
             ],
             [
              0.5555555555555556,
              "#d8576b"
             ],
             [
              0.6666666666666666,
              "#ed7953"
             ],
             [
              0.7777777777777778,
              "#fb9f3a"
             ],
             [
              0.8888888888888888,
              "#fdca26"
             ],
             [
              1,
              "#f0f921"
             ]
            ],
            "type": "heatmapgl"
           }
          ],
          "histogram": [
           {
            "marker": {
             "pattern": {
              "fillmode": "overlay",
              "size": 10,
              "solidity": 0.2
             }
            },
            "type": "histogram"
           }
          ],
          "histogram2d": [
           {
            "colorbar": {
             "outlinewidth": 0,
             "ticks": ""
            },
            "colorscale": [
             [
              0,
              "#0d0887"
             ],
             [
              0.1111111111111111,
              "#46039f"
             ],
             [
              0.2222222222222222,
              "#7201a8"
             ],
             [
              0.3333333333333333,
              "#9c179e"
             ],
             [
              0.4444444444444444,
              "#bd3786"
             ],
             [
              0.5555555555555556,
              "#d8576b"
             ],
             [
              0.6666666666666666,
              "#ed7953"
             ],
             [
              0.7777777777777778,
              "#fb9f3a"
             ],
             [
              0.8888888888888888,
              "#fdca26"
             ],
             [
              1,
              "#f0f921"
             ]
            ],
            "type": "histogram2d"
           }
          ],
          "histogram2dcontour": [
           {
            "colorbar": {
             "outlinewidth": 0,
             "ticks": ""
            },
            "colorscale": [
             [
              0,
              "#0d0887"
             ],
             [
              0.1111111111111111,
              "#46039f"
             ],
             [
              0.2222222222222222,
              "#7201a8"
             ],
             [
              0.3333333333333333,
              "#9c179e"
             ],
             [
              0.4444444444444444,
              "#bd3786"
             ],
             [
              0.5555555555555556,
              "#d8576b"
             ],
             [
              0.6666666666666666,
              "#ed7953"
             ],
             [
              0.7777777777777778,
              "#fb9f3a"
             ],
             [
              0.8888888888888888,
              "#fdca26"
             ],
             [
              1,
              "#f0f921"
             ]
            ],
            "type": "histogram2dcontour"
           }
          ],
          "mesh3d": [
           {
            "colorbar": {
             "outlinewidth": 0,
             "ticks": ""
            },
            "type": "mesh3d"
           }
          ],
          "parcoords": [
           {
            "line": {
             "colorbar": {
              "outlinewidth": 0,
              "ticks": ""
             }
            },
            "type": "parcoords"
           }
          ],
          "pie": [
           {
            "automargin": true,
            "type": "pie"
           }
          ],
          "scatter": [
           {
            "fillpattern": {
             "fillmode": "overlay",
             "size": 10,
             "solidity": 0.2
            },
            "type": "scatter"
           }
          ],
          "scatter3d": [
           {
            "line": {
             "colorbar": {
              "outlinewidth": 0,
              "ticks": ""
             }
            },
            "marker": {
             "colorbar": {
              "outlinewidth": 0,
              "ticks": ""
             }
            },
            "type": "scatter3d"
           }
          ],
          "scattercarpet": [
           {
            "marker": {
             "colorbar": {
              "outlinewidth": 0,
              "ticks": ""
             }
            },
            "type": "scattercarpet"
           }
          ],
          "scattergeo": [
           {
            "marker": {
             "colorbar": {
              "outlinewidth": 0,
              "ticks": ""
             }
            },
            "type": "scattergeo"
           }
          ],
          "scattergl": [
           {
            "marker": {
             "colorbar": {
              "outlinewidth": 0,
              "ticks": ""
             }
            },
            "type": "scattergl"
           }
          ],
          "scattermapbox": [
           {
            "marker": {
             "colorbar": {
              "outlinewidth": 0,
              "ticks": ""
             }
            },
            "type": "scattermapbox"
           }
          ],
          "scatterpolar": [
           {
            "marker": {
             "colorbar": {
              "outlinewidth": 0,
              "ticks": ""
             }
            },
            "type": "scatterpolar"
           }
          ],
          "scatterpolargl": [
           {
            "marker": {
             "colorbar": {
              "outlinewidth": 0,
              "ticks": ""
             }
            },
            "type": "scatterpolargl"
           }
          ],
          "scatterternary": [
           {
            "marker": {
             "colorbar": {
              "outlinewidth": 0,
              "ticks": ""
             }
            },
            "type": "scatterternary"
           }
          ],
          "surface": [
           {
            "colorbar": {
             "outlinewidth": 0,
             "ticks": ""
            },
            "colorscale": [
             [
              0,
              "#0d0887"
             ],
             [
              0.1111111111111111,
              "#46039f"
             ],
             [
              0.2222222222222222,
              "#7201a8"
             ],
             [
              0.3333333333333333,
              "#9c179e"
             ],
             [
              0.4444444444444444,
              "#bd3786"
             ],
             [
              0.5555555555555556,
              "#d8576b"
             ],
             [
              0.6666666666666666,
              "#ed7953"
             ],
             [
              0.7777777777777778,
              "#fb9f3a"
             ],
             [
              0.8888888888888888,
              "#fdca26"
             ],
             [
              1,
              "#f0f921"
             ]
            ],
            "type": "surface"
           }
          ],
          "table": [
           {
            "cells": {
             "fill": {
              "color": "#EBF0F8"
             },
             "line": {
              "color": "white"
             }
            },
            "header": {
             "fill": {
              "color": "#C8D4E3"
             },
             "line": {
              "color": "white"
             }
            },
            "type": "table"
           }
          ]
         },
         "layout": {
          "annotationdefaults": {
           "arrowcolor": "#2a3f5f",
           "arrowhead": 0,
           "arrowwidth": 1
          },
          "autotypenumbers": "strict",
          "coloraxis": {
           "colorbar": {
            "outlinewidth": 0,
            "ticks": ""
           }
          },
          "colorscale": {
           "diverging": [
            [
             0,
             "#8e0152"
            ],
            [
             0.1,
             "#c51b7d"
            ],
            [
             0.2,
             "#de77ae"
            ],
            [
             0.3,
             "#f1b6da"
            ],
            [
             0.4,
             "#fde0ef"
            ],
            [
             0.5,
             "#f7f7f7"
            ],
            [
             0.6,
             "#e6f5d0"
            ],
            [
             0.7,
             "#b8e186"
            ],
            [
             0.8,
             "#7fbc41"
            ],
            [
             0.9,
             "#4d9221"
            ],
            [
             1,
             "#276419"
            ]
           ],
           "sequential": [
            [
             0,
             "#0d0887"
            ],
            [
             0.1111111111111111,
             "#46039f"
            ],
            [
             0.2222222222222222,
             "#7201a8"
            ],
            [
             0.3333333333333333,
             "#9c179e"
            ],
            [
             0.4444444444444444,
             "#bd3786"
            ],
            [
             0.5555555555555556,
             "#d8576b"
            ],
            [
             0.6666666666666666,
             "#ed7953"
            ],
            [
             0.7777777777777778,
             "#fb9f3a"
            ],
            [
             0.8888888888888888,
             "#fdca26"
            ],
            [
             1,
             "#f0f921"
            ]
           ],
           "sequentialminus": [
            [
             0,
             "#0d0887"
            ],
            [
             0.1111111111111111,
             "#46039f"
            ],
            [
             0.2222222222222222,
             "#7201a8"
            ],
            [
             0.3333333333333333,
             "#9c179e"
            ],
            [
             0.4444444444444444,
             "#bd3786"
            ],
            [
             0.5555555555555556,
             "#d8576b"
            ],
            [
             0.6666666666666666,
             "#ed7953"
            ],
            [
             0.7777777777777778,
             "#fb9f3a"
            ],
            [
             0.8888888888888888,
             "#fdca26"
            ],
            [
             1,
             "#f0f921"
            ]
           ]
          },
          "colorway": [
           "#636efa",
           "#EF553B",
           "#00cc96",
           "#ab63fa",
           "#FFA15A",
           "#19d3f3",
           "#FF6692",
           "#B6E880",
           "#FF97FF",
           "#FECB52"
          ],
          "font": {
           "color": "#2a3f5f"
          },
          "geo": {
           "bgcolor": "white",
           "lakecolor": "white",
           "landcolor": "white",
           "showlakes": true,
           "showland": true,
           "subunitcolor": "#C8D4E3"
          },
          "hoverlabel": {
           "align": "left"
          },
          "hovermode": "closest",
          "mapbox": {
           "style": "light"
          },
          "paper_bgcolor": "white",
          "plot_bgcolor": "white",
          "polar": {
           "angularaxis": {
            "gridcolor": "#EBF0F8",
            "linecolor": "#EBF0F8",
            "ticks": ""
           },
           "bgcolor": "white",
           "radialaxis": {
            "gridcolor": "#EBF0F8",
            "linecolor": "#EBF0F8",
            "ticks": ""
           }
          },
          "scene": {
           "xaxis": {
            "backgroundcolor": "white",
            "gridcolor": "#DFE8F3",
            "gridwidth": 2,
            "linecolor": "#EBF0F8",
            "showbackground": true,
            "ticks": "",
            "zerolinecolor": "#EBF0F8"
           },
           "yaxis": {
            "backgroundcolor": "white",
            "gridcolor": "#DFE8F3",
            "gridwidth": 2,
            "linecolor": "#EBF0F8",
            "showbackground": true,
            "ticks": "",
            "zerolinecolor": "#EBF0F8"
           },
           "zaxis": {
            "backgroundcolor": "white",
            "gridcolor": "#DFE8F3",
            "gridwidth": 2,
            "linecolor": "#EBF0F8",
            "showbackground": true,
            "ticks": "",
            "zerolinecolor": "#EBF0F8"
           }
          },
          "shapedefaults": {
           "line": {
            "color": "#2a3f5f"
           }
          },
          "ternary": {
           "aaxis": {
            "gridcolor": "#DFE8F3",
            "linecolor": "#A2B1C6",
            "ticks": ""
           },
           "baxis": {
            "gridcolor": "#DFE8F3",
            "linecolor": "#A2B1C6",
            "ticks": ""
           },
           "bgcolor": "white",
           "caxis": {
            "gridcolor": "#DFE8F3",
            "linecolor": "#A2B1C6",
            "ticks": ""
           }
          },
          "title": {
           "x": 0.05
          },
          "xaxis": {
           "automargin": true,
           "gridcolor": "#EBF0F8",
           "linecolor": "#EBF0F8",
           "ticks": "",
           "title": {
            "standoff": 15
           },
           "zerolinecolor": "#EBF0F8",
           "zerolinewidth": 2
          },
          "yaxis": {
           "automargin": true,
           "gridcolor": "#EBF0F8",
           "linecolor": "#EBF0F8",
           "ticks": "",
           "title": {
            "standoff": 15
           },
           "zerolinecolor": "#EBF0F8",
           "zerolinewidth": 2
          }
         }
        },
        "title": {
         "text": "Customer Behavior"
        },
        "xaxis": {
         "autorange": true,
         "range": [
          0.7445944331621073,
          5.255405566837893
         ],
         "title": {
          "text": "Average Quantity"
         },
         "type": "linear"
        },
        "yaxis": {
         "autorange": true,
         "range": [
          -0.025969899665551743,
          12.555969899665552
         ],
         "title": {
          "text": "Total Spending"
         },
         "type": "linear"
        }
       }
      },
      "image/png": "[encoded data removed]",
      "text/html": [
       "<div>                            <div id=\"96585a3c-f4c0-4daa-bb49-633aa811b8d8\" class=\"plotly-graph-div\" style=\"height:525px; width:100%;\"></div>            <script type=\"text/javascript\">                require([\"plotly\"], function(Plotly) {                    window.PLOTLYENV=window.PLOTLYENV || {};                                    if (document.getElementById(\"96585a3c-f4c0-4daa-bb49-633aa811b8d8\")) {                    Plotly.newPlot(                        \"96585a3c-f4c0-4daa-bb49-633aa811b8d8\",                        [{\"marker\":{\"color\":\"coral\",\"size\":10},\"mode\":\"markers\",\"text\":[10504.0,10588.0,10826.0,11113.0,11267.0,11373.0,11430.0,11644.0,11752.0,11754.0,12550.0,12759.0,12777.0,12894.0,12951.0,13350.0,13413.0,13560.0,13601.0,13996.0,14018.0,14479.0,14594.0,14668.0,14869.0,15037.0,15290.0,15320.0,15378.0,15639.0,15790.0,15870.0,15876.0,15877.0,15938.0,15974.0,16027.0,16415.0,16469.0,16539.0,16613.0,16666.0,16844.0,16891.0,17005.0,17508.0,17679.0,17772.0,17821.0,18108.0,18132.0,18416.0,18450.0,18579.0,18782.0,18944.0,19038.0,19153.0,19478.0,19711.0,19774.0,19850.0,20072.0,20321.0,20351.0,20696.0,20909.0,21032.0,21035.0,21114.0,21268.0,21763.0,21868.0,22590.0,22613.0,22752.0,22764.0,22889.0,23073.0,23154.0,23412.0,23748.0,23884.0,24468.0,24493.0,25149.0,25378.0,25485.0,25656.0,25803.0,25874.0,26004.0,26046.0,26139.0,26307.0,26455.0,26627.0,26938.0,27080.0,27125.0,27376.0,27406.0,27433.0,27600.0,27619.0,28431.0,28715.0,28798.0,29519.0,29798.0,29871.0,29955.0,30221.0,30445.0,30543.0,30570.0,30621.0,30936.0,31127.0,31279.0,32074.0,32140.0,32332.0,32602.0,32813.0,32827.0,32905.0,33260.0,33323.0,33668.0,34087.0,34423.0,34539.0,34679.0,34687.0,34870.0,35074.0,35115.0,35384.0,35705.0,35709.0,35979.0,36019.0,36132.0,36298.0,36694.0,36719.0,37013.0,37152.0,37245.0,37403.0,37639.0,37686.0,37832.0,38011.0,38405.0,38536.0,38643.0,39192.0,39639.0,39724.0,39792.0,39902.0,39921.0,40115.0,40205.0,40389.0,40508.0,40800.0,40946.0,41003.0,41055.0,41440.0,41510.0,41629.0,41923.0,42281.0,42445.0,42567.0,42602.0,42722.0,42831.0,42926.0,43017.0,43169.0,43275.0,43327.0,43594.0,43681.0,43702.0,43704.0,43933.0,43975.0,44065.0,44183.0,44222.0,44236.0,44262.0,44502.0,44616.0,45015.0,45049.0,45060.0,45063.0,45064.0,45369.0,45410.0,45531.0,45811.0,46249.0,46399.0,46419.0,46426.0,46523.0,47285.0,47387.0,47681.0,47892.0,48098.0,48716.0,48912.0,48960.0,49110.0,49195.0,49638.0,49645.0,50407.0,50473.0,50813.0,50919.0,51032.0,51260.0,51336.0,51604.0,51682.0,52161.0,52194.0,52239.0,52255.0,52267.0,52299.0,52369.0,52711.0,53252.0,53334.0,53364.0,53368.0,53407.0,53486.0,53527.0,53609.0,53719.0,53723.0,54133.0,54178.0,54206.0,54225.0,54358.0,54793.0,54896.0,54970.0,55091.0,55267.0,55304.0,55321.0,55371.0,55421.0,55423.0,55506.0,55592.0,55704.0,55885.0,56067.0,56145.0,56291.0,57198.0,58046.0,58613.0,58893.0,59094.0,59237.0,59255.0,59416.0,59580.0,60088.0,60252.0,60271.0,60275.0,60351.0,60600.0,60944.0,61198.0,61230.0,61399.0,61496.0,61567.0,61738.0,61753.0,62431.0,62667.0,63008.0,63032.0,63057.0,63124.0,63217.0,63287.0,63681.0,63813.0,64093.0,64324.0,64367.0,64821.0,64854.0,65291.0,65376.0,65508.0,65941.0,66106.0,67240.0,67685.0,68017.0,68259.0,68313.0,68417.0,68571.0,68861.0,68912.0,69005.0,69123.0,69455.0,69611.0,69784.0,69838.0,69993.0,70126.0,70520.0,70748.0,70781.0,71236.0,71310.0,71377.0,71628.0,71663.0,71938.0,71987.0,72262.0,72279.0,72390.0,72611.0,72981.0,73266.0,73288.0,73544.0,73550.0,73613.0,73732.0,73789.0,73818.0,74271.0,74277.0,74383.0,74386.0,74773.0,74784.0,74910.0,75915.0,75967.0,76052.0,76128.0,76164.0,76168.0,76488.0,76583.0,76637.0,76666.0,76765.0,76946.0,76973.0,77559.0,77640.0,77765.0,77988.0,78106.0,78128.0,78268.0,78279.0,78342.0,78411.0,78522.0,78642.0,78889.0,78915.0,79183.0,79689.0,79964.0,80128.0,80292.0,80320.0,80346.0,80708.0,80925.0,81031.0,81260.0,81294.0,81556.0,82102.0,82670.0,82829.0,83029.0,83035.0,83049.0,83132.0,83603.0,83712.0,83735.0,83754.0,83761.0,84010.0,84097.0,84523.0,84568.0,84684.0,84871.0,84964.0,85303.0,85311.0,85393.0,85652.0,85895.0,85903.0,85960.0,86475.0,86586.0,86740.0,86833.0,86986.0,87130.0,87889.0,88065.0,88386.0,88554.0,88751.0,88784.0,88820.0,88923.0,88999.0,89244.0,89472.0,89637.0,89823.0,89941.0,90037.0,90160.0,90241.0,90362.0,90438.0,91077.0,91211.0,91284.0,91418.0,91421.0,91572.0,91832.0,92263.0,92271.0,92650.0,92652.0,92961.0,92962.0,93596.0,93698.0,93890.0,93949.0,94391.0,94737.0,94859.0,95259.0,95462.0,95622.0,95776.0,95924.0,96010.0,96136.0,96375.0,96384.0,96485.0,96839.0,96845.0,97240.0,97428.0,97433.0,98392.0,98394.0,98741.0,98766.0,98833.0,98942.0,99122.0,99162.0],\"x\":[1.0,5.0,1.0,3.0,1.0,2.0,3.0,5.0,4.0,3.0,1.0,3.0,5.0,5.0,5.0,3.0,2.0,1.0,2.0,1.0,5.0,5.0,2.0,4.0,3.0,1.0,5.0,5.0,3.0,2.0,5.0,4.0,1.0,4.0,5.0,4.0,4.0,4.0,5.0,1.0,5.0,1.0,5.0,3.0,5.0,2.0,3.0,2.0,3.0,4.0,3.0,2.0,1.0,3.0,1.0,5.0,5.0,2.0,5.0,3.0,5.0,3.0,3.0,5.0,5.0,2.0,1.0,3.0,4.0,5.0,5.0,3.0,4.0,5.0,3.0,3.0,4.0,4.0,1.0,3.0,2.0,2.0,1.0,3.0,3.0,1.0,3.0,2.0,4.0,1.0,2.0,4.0,3.0,5.0,3.0,5.0,3.0,5.0,1.0,5.0,3.0,4.0,5.0,1.0,5.0,1.0,5.0,3.0,2.0,3.0,1.0,2.0,2.0,3.0,5.0,4.0,1.0,1.0,4.0,1.0,3.0,1.0,1.0,2.0,1.0,5.0,1.0,2.0,3.0,2.0,2.0,3.0,3.0,3.0,4.0,5.0,3.0,1.0,5.0,1.0,5.0,1.0,5.0,5.0,1.0,4.0,1.0,4.0,4.0,4.0,3.0,2.0,4.0,4.0,4.0,4.0,1.0,2.0,5.0,2.0,3.0,3.0,4.0,4.0,3.0,1.0,2.0,5.0,5.0,3.0,3.0,4.0,1.0,4.0,2.0,4.0,4.0,3.0,5.0,3.0,4.0,2.0,3.0,5.0,4.0,3.0,1.0,1.0,2.0,3.0,1.0,2.0,2.0,5.0,1.0,4.0,2.0,1.0,4.0,3.0,1.0,4.0,2.0,1.0,5.0,4.0,4.0,5.0,2.0,5.0,2.0,3.5,2.0,1.0,3.0,4.0,2.0,3.0,1.0,2.0,1.0,4.0,4.0,5.0,4.0,3.0,5.0,2.0,3.0,3.0,4.0,5.0,1.0,2.0,1.0,2.0,2.0,2.0,2.0,5.0,5.0,3.0,3.0,5.0,3.0,4.0,5.0,1.0,4.0,4.0,1.0,2.0,2.0,4.0,2.0,1.0,5.0,3.0,3.0,5.0,2.0,2.0,1.0,2.0,2.0,3.0,1.0,1.0,1.0,2.0,4.0,3.0,5.0,5.0,3.0,4.0,3.0,1.0,3.0,4.0,2.0,3.0,4.0,2.0,3.0,1.0,3.0,1.0,4.0,1.0,4.0,4.0,3.0,4.0,1.0,5.0,2.0,1.0,1.0,4.0,3.0,5.0,4.0,3.0,2.0,4.0,1.0,2.0,4.0,4.0,5.0,5.0,4.0,1.0,1.0,1.0,5.0,2.0,5.0,5.0,2.0,2.0,3.0,1.0,3.0,1.0,5.0,3.0,3.0,5.0,2.0,3.0,2.0,4.0,3.0,5.0,4.0,1.0,4.0,4.0,3.0,2.0,2.0,4.0,4.0,4.0,4.0,3.0,3.0,4.0,3.0,1.0,1.0,5.0,5.0,5.0,5.0,4.0,1.0,4.0,1.0,3.0,4.0,4.0,1.0,5.0,1.0,4.0,1.0,4.0,3.0,3.0,1.0,1.0,4.0,5.0,3.0,2.0,2.0,1.0,2.0,1.0,3.0,1.0,2.0,4.0,3.0,4.0,5.0,1.0,5.0,3.0,4.0,4.0,1.0,3.0,3.0,5.0,5.0,3.0,5.0,4.0,1.0,4.0,2.0,1.0,3.0,1.0,1.0,5.0,5.0,4.0,5.0,5.0,3.0,3.0,1.0,2.0,1.0,1.0,2.0,1.0,1.0,3.0,3.0,2.0,5.0,1.0,4.0,2.0,4.0,1.0,1.0,5.0,5.0,2.0,1.0,4.0,5.0,4.0,5.0,1.0,4.0,5.0,1.0,2.0,5.0,2.0,5.0,5.0,2.0,5.0,5.0,2.0,4.0,1.0,3.0,3.0,2.0,1.0,2.0,5.0,3.0,1.0,1.0,2.0,4.0,3.0,1.0,3.0,5.0,5.0,2.0,3.0,4.0,4.0,2.0,1.0,2.0,2.0,2.0,1.0,3.0,3.0,4.0,4.0,2.0,4.0,1.0,3.0,3.0,1.0,4.0,5.0,2.0,1.0,2.0,1.0,3.0],\"y\":[2.04,5.5,5.67,8.84,8.87,6.69,4.85,4.67,6.06,1.18,9.13,9.66,6.56,3.02,8.81,1.55,3.4,6.93,5.08,5.21,2.16,7.05,8.03,6.78,8.54,8.66,3.82,9.25,4.9,9.53,4.08,2.25,8.41,8.71,4.05,5.37,4.77,2.66,9.93,2.33,9.64,3.66,3.09,2.29,2.89,8.23,6.44,9.62,5.26,9.84,4.18,3.97,8.51,6.68,3.0,4.84,9.43,9.28,1.58,7.12,8.51,9.67,7.67,9.26,7.09,1.22,9.28,5.3,6.81,3.05,5.11,3.48,9.6,2.62,8.14,8.48,7.51,8.1,8.88,3.54,4.14,4.02,6.35,5.35,4.33,2.65,2.01,6.88,4.94,9.04,2.84,1.33,8.68,4.91,1.37,8.49,4.99,3.73,2.25,9.53,9.31,7.91,5.84,9.78,2.48,7.15,1.64,1.59,4.08,7.71,9.7,6.66,2.08,4.65,8.75,2.58,7.74,4.21,5.66,7.87,6.36,6.47,6.13,2.93,3.0,5.56,4.53,9.94,5.15,2.67,7.88,9.75,2.4,8.15,7.37,9.72,8.07,2.92,5.32,5.0,2.22,2.94,7.22,6.25,4.26,3.67,6.15,5.74,2.25,7.38,3.69,9.64,4.05,1.27,1.46,4.78,7.5,4.5,5.25,7.28,2.01,4.14,7.92,4.85,1.6,3.71,4.86,8.68,8.03,9.79,3.11,3.89,2.32,4.7,1.21,7.43,1.41,9.84,4.7,4.78,9.88,1.96,5.41,2.58,9.15,1.21,5.86,1.59,7.2,1.55,3.63,8.15,4.23,2.71,3.85,4.9,4.9,9.41,1.61,7.47,2.81,1.83,8.75,8.5,1.98,5.87,9.09,7.92,7.82,6.42,6.91,11.49,8.91,8.0,8.22,8.4,8.31,1.59,2.89,8.71,3.52,4.45,4.6,3.98,7.38,9.18,4.66,3.48,3.19,7.41,9.75,6.41,5.85,4.2,6.16,6.03,4.88,5.66,7.26,6.6,8.3,9.72,9.82,6.91,2.64,1.64,4.35,7.66,4.08,1.04,8.98,7.82,9.1,4.19,6.77,5.39,5.28,5.29,4.09,9.32,5.06,5.57,4.62,1.12,4.24,4.34,3.22,8.79,4.49,6.04,8.56,1.25,1.48,8.26,5.76,4.54,4.69,5.79,7.46,4.12,7.12,8.11,8.93,8.2,7.78,1.41,5.24,7.35,6.21,1.49,9.52,6.58,6.37,3.2,3.48,6.32,5.74,7.89,3.67,9.5,2.55,2.63,5.8,4.38,4.32,5.81,7.25,3.85,2.76,8.41,1.12,5.32,7.98,8.04,2.73,6.66,9.83,1.15,5.62,4.65,3.01,2.82,9.14,7.97,1.5,3.95,4.85,6.04,1.26,7.83,2.87,8.83,4.82,7.64,3.85,3.64,9.5,9.61,3.0,3.24,8.78,8.92,6.38,8.84,8.71,9.11,6.85,5.14,2.86,8.86,8.75,5.58,6.98,9.04,3.43,9.52,3.35,3.35,2.59,1.9,6.36,4.24,3.88,8.2,4.61,2.29,7.07,6.41,1.33,8.09,7.34,5.04,9.87,2.38,8.33,6.47,2.65,4.89,6.12,4.43,5.69,5.44,3.82,6.12,2.45,2.62,2.89,9.94,3.69,1.39,4.53,2.68,8.97,9.69,8.45,4.33,1.13,2.27,3.05,8.42,2.48,1.71,3.0,3.22,7.25,6.09,4.04,4.49,9.86,4.22,6.5,9.67,1.82,7.35,6.91,9.1,9.58,2.63,4.54,6.1,9.48,9.05,6.88,3.61,3.95,7.58,5.76,7.52,2.08,1.28,3.45,3.9,4.04,9.79,7.12,6.34,4.93,2.34,4.3,6.91,6.99,8.82,8.37,1.26,1.91,9.79,1.29,6.09,4.69,7.14,4.35,8.22,5.04,2.3,9.49,6.35,7.74,2.38,4.73,6.93,8.15,4.93,4.33,1.54,6.48,4.79,5.31,5.42,5.77,8.38,2.93,9.39,2.09,9.39,8.6,2.32,5.45,4.01,4.27,3.69,8.84,2.12,4.92,7.1,5.94,3.75,7.32,7.18,4.66,2.68,5.16,7.38,3.58,8.11,5.89,4.6,8.96,7.66,7.14],\"type\":\"scatter\"},{\"cells\":{\"values\":[[10504,10588,10826,11113,11267,11373,11430,11644,11752,11754,12550,12759,12777,12894,12951,13350,13413,13560,13601,13996,14018,14479,14594,14668,14869,15037,15290,15320,15378,15639,15790,15870,15876,15877,15938,15974,16027,16415,16469,16539,16613,16666,16844,16891,17005,17508,17679,17772,17821,18108,18132,18416,18450,18579,18782,18944,19038,19153,19478,19711,19774,19850,20072,20321,20351,20696,20909,21032,21035,21114,21268,21763,21868,22590,22613,22752,22764,22889,23073,23154,23412,23748,23884,24468,24493,25149,25378,25485,25656,25803,25874,26004,26046,26139,26307,26455,26627,26938,27080,27125,27376,27406,27433,27600,27619,28431,28715,28798,29519,29798,29871,29955,30221,30445,30543,30570,30621,30936,31127,31279,32074,32140,32332,32602,32813,32827,32905,33260,33323,33668,34087,34423,34539,34679,34687,34870,35074,35115,35384,35705,35709,35979,36019,36132,36298,36694,36719,37013,37152,37245,37403,37639,37686,37832,38011,38405,38536,38643,39192,39639,39724,39792,39902,39921,40115,40205,40389,40508,40800,40946,41003,41055,41440,41510,41629,41923,42281,42445,42567,42602,42722,42831,42926,43017,43169,43275,43327,43594,43681,43702,43704,43933,43975,44065,44183,44222,44236,44262,44502,44616,45015,45049,45060,45063,45064,45369,45410,45531,45811,46249,46399,46419,46426,46523,47285,47387,47681,47892,48098,48716,48912,48960,49110,49195,49638,49645,50407,50473,50813,50919,51032,51260,51336,51604,51682,52161,52194,52239,52255,52267,52299,52369,52711,53252,53334,53364,53368,53407,53486,53527,53609,53719,53723,54133,54178,54206,54225,54358,54793,54896,54970,55091,55267,55304,55321,55371,55421,55423,55506,55592,55704,55885,56067,56145,56291,57198,58046,58613,58893,59094,59237,59255,59416,59580,60088,60252,60271,60275,60351,60600,60944,61198,61230,61399,61496,61567,61738,61753,62431,62667,63008,63032,63057,63124,63217,63287,63681,63813,64093,64324,64367,64821,64854,65291,65376,65508,65941,66106,67240,67685,68017,68259,68313,68417,68571,68861,68912,69005,69123,69455,69611,69784,69838,69993,70126,70520,70748,70781,71236,71310,71377,71628,71663,71938,71987,72262,72279,72390,72611,72981,73266,73288,73544,73550,73613,73732,73789,73818,74271,74277,74383,74386,74773,74784,74910,75915,75967,76052,76128,76164,76168,76488,76583,76637,76666,76765,76946,76973,77559,77640,77765,77988,78106,78128,78268,78279,78342,78411,78522,78642,78889,78915,79183,79689,79964,80128,80292,80320,80346,80708,80925,81031,81260,81294,81556,82102,82670,82829,83029,83035,83049,83132,83603,83712,83735,83754,83761,84010,84097,84523,84568,84684,84871,84964,85303,85311,85393,85652,85895,85903,85960,86475,86586,86740,86833,86986,87130,87889,88065,88386,88554,88751,88784,88820,88923,88999,89244,89472,89637,89823,89941,90037,90160,90241,90362,90438,91077,91211,91284,91418,91421,91572,91832,92263,92271,92650,92652,92961,92962,93596,93698,93890,93949,94391,94737,94859,95259,95462,95622,95776,95924,96010,96136,96375,96384,96485,96839,96845,97240,97428,97433,98392,98394,98741,98766,98833,98942,99122,99162],[1.0,5.0,1.0,3.0,1.0,2.0,3.0,5.0,4.0,3.0,1.0,3.0,5.0,5.0,5.0,3.0,2.0,1.0,2.0,1.0,5.0,5.0,2.0,4.0,3.0,1.0,5.0,5.0,3.0,2.0,5.0,4.0,1.0,4.0,5.0,4.0,4.0,4.0,5.0,1.0,5.0,1.0,5.0,3.0,5.0,2.0,3.0,2.0,3.0,4.0,3.0,2.0,1.0,3.0,1.0,5.0,5.0,2.0,5.0,3.0,5.0,3.0,3.0,5.0,5.0,2.0,1.0,3.0,4.0,5.0,5.0,3.0,4.0,5.0,3.0,3.0,4.0,4.0,1.0,3.0,2.0,2.0,1.0,3.0,3.0,1.0,3.0,2.0,4.0,1.0,2.0,4.0,3.0,5.0,3.0,5.0,3.0,5.0,1.0,5.0,3.0,4.0,5.0,1.0,5.0,1.0,5.0,3.0,2.0,3.0,1.0,2.0,2.0,3.0,5.0,4.0,1.0,1.0,4.0,1.0,3.0,1.0,1.0,2.0,1.0,5.0,1.0,2.0,3.0,2.0,2.0,3.0,3.0,3.0,4.0,5.0,3.0,1.0,5.0,1.0,5.0,1.0,5.0,5.0,1.0,4.0,1.0,4.0,4.0,4.0,3.0,2.0,4.0,4.0,4.0,4.0,1.0,2.0,5.0,2.0,3.0,3.0,4.0,4.0,3.0,1.0,2.0,5.0,5.0,3.0,3.0,4.0,1.0,4.0,2.0,4.0,4.0,3.0,5.0,3.0,4.0,2.0,3.0,5.0,4.0,3.0,1.0,1.0,2.0,3.0,1.0,2.0,2.0,5.0,1.0,4.0,2.0,1.0,4.0,3.0,1.0,4.0,2.0,1.0,5.0,4.0,4.0,5.0,2.0,5.0,2.0,3.5,2.0,1.0,3.0,4.0,2.0,3.0,1.0,2.0,1.0,4.0,4.0,5.0,4.0,3.0,5.0,2.0,3.0,3.0,4.0,5.0,1.0,2.0,1.0,2.0,2.0,2.0,2.0,5.0,5.0,3.0,3.0,5.0,3.0,4.0,5.0,1.0,4.0,4.0,1.0,2.0,2.0,4.0,2.0,1.0,5.0,3.0,3.0,5.0,2.0,2.0,1.0,2.0,2.0,3.0,1.0,1.0,1.0,2.0,4.0,3.0,5.0,5.0,3.0,4.0,3.0,1.0,3.0,4.0,2.0,3.0,4.0,2.0,3.0,1.0,3.0,1.0,4.0,1.0,4.0,4.0,3.0,4.0,1.0,5.0,2.0,1.0,1.0,4.0,3.0,5.0,4.0,3.0,2.0,4.0,1.0,2.0,4.0,4.0,5.0,5.0,4.0,1.0,1.0,1.0,5.0,2.0,5.0,5.0,2.0,2.0,3.0,1.0,3.0,1.0,5.0,3.0,3.0,5.0,2.0,3.0,2.0,4.0,3.0,5.0,4.0,1.0,4.0,4.0,3.0,2.0,2.0,4.0,4.0,4.0,4.0,3.0,3.0,4.0,3.0,1.0,1.0,5.0,5.0,5.0,5.0,4.0,1.0,4.0,1.0,3.0,4.0,4.0,1.0,5.0,1.0,4.0,1.0,4.0,3.0,3.0,1.0,1.0,4.0,5.0,3.0,2.0,2.0,1.0,2.0,1.0,3.0,1.0,2.0,4.0,3.0,4.0,5.0,1.0,5.0,3.0,4.0,4.0,1.0,3.0,3.0,5.0,5.0,3.0,5.0,4.0,1.0,4.0,2.0,1.0,3.0,1.0,1.0,5.0,5.0,4.0,5.0,5.0,3.0,3.0,1.0,2.0,1.0,1.0,2.0,1.0,1.0,3.0,3.0,2.0,5.0,1.0,4.0,2.0,4.0,1.0,1.0,5.0,5.0,2.0,1.0,4.0,5.0,4.0,5.0,1.0,4.0,5.0,1.0,2.0,5.0,2.0,5.0,5.0,2.0,5.0,5.0,2.0,4.0,1.0,3.0,3.0,2.0,1.0,2.0,5.0,3.0,1.0,1.0,2.0,4.0,3.0,1.0,3.0,5.0,5.0,2.0,3.0,4.0,4.0,2.0,1.0,2.0,2.0,2.0,1.0,3.0,3.0,4.0,4.0,2.0,4.0,1.0,3.0,3.0,1.0,4.0,5.0,2.0,1.0,2.0,1.0,3.0],[2.04,5.5,5.67,8.84,8.87,6.69,4.85,4.67,6.06,1.18,9.13,9.66,6.56,3.02,8.81,1.55,3.4,6.93,5.08,5.21,2.16,7.05,8.03,6.78,8.54,8.66,3.82,9.25,4.9,9.53,4.08,2.25,8.41,8.71,4.05,5.37,4.77,2.66,9.93,2.33,9.64,3.66,3.09,2.29,2.89,8.23,6.44,9.62,5.26,9.84,4.18,3.97,8.51,6.68,3.0,4.84,9.43,9.28,1.58,7.12,8.51,9.67,7.67,9.26,7.09,1.22,9.28,5.3,6.81,3.05,5.11,3.48,9.6,2.62,8.14,8.48,7.51,8.1,8.88,3.54,4.14,4.02,6.35,5.35,4.33,2.65,2.01,6.88,4.94,9.04,2.84,1.33,8.68,4.91,1.37,8.49,4.99,3.73,2.25,9.53,9.31,7.91,5.84,9.78,2.48,7.15,1.64,1.59,4.08,7.71,9.7,6.66,2.08,4.65,8.75,2.58,7.74,4.21,5.66,7.87,6.36,6.47,6.13,2.93,3.0,5.56,4.53,9.94,5.15,2.67,7.88,9.75,2.4,8.15,7.37,9.72,8.07,2.92,5.32,5.0,2.22,2.94,7.22,6.25,4.26,3.67,6.15,5.74,2.25,7.38,3.69,9.64,4.05,1.27,1.46,4.78,7.5,4.5,5.25,7.28,2.01,4.14,7.92,4.85,1.6,3.71,4.86,8.68,8.03,9.79,3.11,3.89,2.32,4.7,1.21,7.43,1.41,9.84,4.7,4.78,9.88,1.96,5.41,2.58,9.15,1.21,5.86,1.59,7.2,1.55,3.63,8.15,4.23,2.71,3.85,4.9,4.9,9.41,1.61,7.47,2.81,1.83,8.75,8.5,1.98,5.87,9.09,7.92,7.82,6.42,6.91,11.49,8.91,8.0,8.22,8.4,8.31,1.59,2.89,8.71,3.52,4.45,4.6,3.98,7.38,9.18,4.66,3.48,3.19,7.41,9.75,6.41,5.85,4.2,6.16,6.03,4.88,5.66,7.26,6.6,8.3,9.72,9.82,6.91,2.64,1.64,4.35,7.66,4.08,1.04,8.98,7.82,9.1,4.19,6.77,5.39,5.28,5.29,4.09,9.32,5.06,5.57,4.62,1.12,4.24,4.34,3.22,8.79,4.49,6.04,8.56,1.25,1.48,8.26,5.76,4.54,4.69,5.79,7.46,4.12,7.12,8.11,8.93,8.2,7.78,1.41,5.24,7.35,6.21,1.49,9.52,6.58,6.37,3.2,3.48,6.32,5.74,7.89,3.67,9.5,2.55,2.63,5.8,4.38,4.32,5.81,7.25,3.85,2.76,8.41,1.12,5.32,7.98,8.04,2.73,6.66,9.83,1.15,5.62,4.65,3.01,2.82,9.14,7.97,1.5,3.95,4.85,6.04,1.26,7.83,2.87,8.83,4.82,7.64,3.85,3.64,9.5,9.61,3.0,3.24,8.78,8.92,6.38,8.84,8.71,9.11,6.85,5.14,2.86,8.86,8.75,5.58,6.98,9.04,3.43,9.52,3.35,3.35,2.59,1.9,6.36,4.24,3.88,8.2,4.61,2.29,7.07,6.41,1.33,8.09,7.34,5.04,9.87,2.38,8.33,6.47,2.65,4.89,6.12,4.43,5.69,5.44,3.82,6.12,2.45,2.62,2.89,9.94,3.69,1.39,4.53,2.68,8.97,9.69,8.45,4.33,1.13,2.27,3.05,8.42,2.48,1.71,3.0,3.22,7.25,6.09,4.04,4.49,9.86,4.22,6.5,9.67,1.82,7.35,6.91,9.1,9.58,2.63,4.54,6.1,9.48,9.05,6.88,3.61,3.95,7.58,5.76,7.52,2.08,1.28,3.45,3.9,4.04,9.79,7.12,6.34,4.93,2.34,4.3,6.91,6.99,8.82,8.37,1.26,1.91,9.79,1.29,6.09,4.69,7.14,4.35,8.22,5.04,2.3,9.49,6.35,7.74,2.38,4.73,6.93,8.15,4.93,4.33,1.54,6.48,4.79,5.31,5.42,5.77,8.38,2.93,9.39,2.09,9.39,8.6,2.32,5.45,4.01,4.27,3.69,8.84,2.12,4.92,7.1,5.94,3.75,7.32,7.18,4.66,2.68,5.16,7.38,3.58,8.11,5.89,4.6,8.96,7.66,7.14]]},\"header\":{\"values\":[\"CustomerID\",\"Average Quantity\",\"Total Spending\"]},\"type\":\"table\"}],                        {\"template\":{\"data\":{\"histogram2dcontour\":[{\"type\":\"histogram2dcontour\",\"colorbar\":{\"outlinewidth\":0,\"ticks\":\"\"},\"colorscale\":[[0.0,\"#0d0887\"],[0.1111111111111111,\"#46039f\"],[0.2222222222222222,\"#7201a8\"],[0.3333333333333333,\"#9c179e\"],[0.4444444444444444,\"#bd3786\"],[0.5555555555555556,\"#d8576b\"],[0.6666666666666666,\"#ed7953\"],[0.7777777777777778,\"#fb9f3a\"],[0.8888888888888888,\"#fdca26\"],[1.0,\"#f0f921\"]]}],\"choropleth\":[{\"type\":\"choropleth\",\"colorbar\":{\"outlinewidth\":0,\"ticks\":\"\"}}],\"histogram2d\":[{\"type\":\"histogram2d\",\"colorbar\":{\"outlinewidth\":0,\"ticks\":\"\"},\"colorscale\":[[0.0,\"#0d0887\"],[0.1111111111111111,\"#46039f\"],[0.2222222222222222,\"#7201a8\"],[0.3333333333333333,\"#9c179e\"],[0.4444444444444444,\"#bd3786\"],[0.5555555555555556,\"#d8576b\"],[0.6666666666666666,\"#ed7953\"],[0.7777777777777778,\"#fb9f3a\"],[0.8888888888888888,\"#fdca26\"],[1.0,\"#f0f921\"]]}],\"heatmap\":[{\"type\":\"heatmap\",\"colorbar\":{\"outlinewidth\":0,\"ticks\":\"\"},\"colorscale\":[[0.0,\"#0d0887\"],[0.1111111111111111,\"#46039f\"],[0.2222222222222222,\"#7201a8\"],[0.3333333333333333,\"#9c179e\"],[0.4444444444444444,\"#bd3786\"],[0.5555555555555556,\"#d8576b\"],[0.6666666666666666,\"#ed7953\"],[0.7777777777777778,\"#fb9f3a\"],[0.8888888888888888,\"#fdca26\"],[1.0,\"#f0f921\"]]}],\"heatmapgl\":[{\"type\":\"heatmapgl\",\"colorbar\":{\"outlinewidth\":0,\"ticks\":\"\"},\"colorscale\":[[0.0,\"#0d0887\"],[0.1111111111111111,\"#46039f\"],[0.2222222222222222,\"#7201a8\"],[0.3333333333333333,\"#9c179e\"],[0.4444444444444444,\"#bd3786\"],[0.5555555555555556,\"#d8576b\"],[0.6666666666666666,\"#ed7953\"],[0.7777777777777778,\"#fb9f3a\"],[0.8888888888888888,\"#fdca26\"],[1.0,\"#f0f921\"]]}],\"contourcarpet\":[{\"type\":\"contourcarpet\",\"colorbar\":{\"outlinewidth\":0,\"ticks\":\"\"}}],\"contour\":[{\"type\":\"contour\",\"colorbar\":{\"outlinewidth\":0,\"ticks\":\"\"},\"colorscale\":[[0.0,\"#0d0887\"],[0.1111111111111111,\"#46039f\"],[0.2222222222222222,\"#7201a8\"],[0.3333333333333333,\"#9c179e\"],[0.4444444444444444,\"#bd3786\"],[0.5555555555555556,\"#d8576b\"],[0.6666666666666666,\"#ed7953\"],[0.7777777777777778,\"#fb9f3a\"],[0.8888888888888888,\"#fdca26\"],[1.0,\"#f0f921\"]]}],\"surface\":[{\"type\":\"surface\",\"colorbar\":{\"outlinewidth\":0,\"ticks\":\"\"},\"colorscale\":[[0.0,\"#0d0887\"],[0.1111111111111111,\"#46039f\"],[0.2222222222222222,\"#7201a8\"],[0.3333333333333333,\"#9c179e\"],[0.4444444444444444,\"#bd3786\"],[0.5555555555555556,\"#d8576b\"],[0.6666666666666666,\"#ed7953\"],[0.7777777777777778,\"#fb9f3a\"],[0.8888888888888888,\"#fdca26\"],[1.0,\"#f0f921\"]]}],\"mesh3d\":[{\"type\":\"mesh3d\",\"colorbar\":{\"outlinewidth\":0,\"ticks\":\"\"}}],\"scatter\":[{\"fillpattern\":{\"fillmode\":\"overlay\",\"size\":10,\"solidity\":0.2},\"type\":\"scatter\"}],\"parcoords\":[{\"type\":\"parcoords\",\"line\":{\"colorbar\":{\"outlinewidth\":0,\"ticks\":\"\"}}}],\"scatterpolargl\":[{\"type\":\"scatterpolargl\",\"marker\":{\"colorbar\":{\"outlinewidth\":0,\"ticks\":\"\"}}}],\"bar\":[{\"error_x\":{\"color\":\"#2a3f5f\"},\"error_y\":{\"color\":\"#2a3f5f\"},\"marker\":{\"line\":{\"color\":\"white\",\"width\":0.5},\"pattern\":{\"fillmode\":\"overlay\",\"size\":10,\"solidity\":0.2}},\"type\":\"bar\"}],\"scattergeo\":[{\"type\":\"scattergeo\",\"marker\":{\"colorbar\":{\"outlinewidth\":0,\"ticks\":\"\"}}}],\"scatterpolar\":[{\"type\":\"scatterpolar\",\"marker\":{\"colorbar\":{\"outlinewidth\":0,\"ticks\":\"\"}}}],\"histogram\":[{\"marker\":{\"pattern\":{\"fillmode\":\"overlay\",\"size\":10,\"solidity\":0.2}},\"type\":\"histogram\"}],\"scattergl\":[{\"type\":\"scattergl\",\"marker\":{\"colorbar\":{\"outlinewidth\":0,\"ticks\":\"\"}}}],\"scatter3d\":[{\"type\":\"scatter3d\",\"line\":{\"colorbar\":{\"outlinewidth\":0,\"ticks\":\"\"}},\"marker\":{\"colorbar\":{\"outlinewidth\":0,\"ticks\":\"\"}}}],\"scattermapbox\":[{\"type\":\"scattermapbox\",\"marker\":{\"colorbar\":{\"outlinewidth\":0,\"ticks\":\"\"}}}],\"scatterternary\":[{\"type\":\"scatterternary\",\"marker\":{\"colorbar\":{\"outlinewidth\":0,\"ticks\":\"\"}}}],\"scattercarpet\":[{\"type\":\"scattercarpet\",\"marker\":{\"colorbar\":{\"outlinewidth\":0,\"ticks\":\"\"}}}],\"carpet\":[{\"aaxis\":{\"endlinecolor\":\"#2a3f5f\",\"gridcolor\":\"#C8D4E3\",\"linecolor\":\"#C8D4E3\",\"minorgridcolor\":\"#C8D4E3\",\"startlinecolor\":\"#2a3f5f\"},\"baxis\":{\"endlinecolor\":\"#2a3f5f\",\"gridcolor\":\"#C8D4E3\",\"linecolor\":\"#C8D4E3\",\"minorgridcolor\":\"#C8D4E3\",\"startlinecolor\":\"#2a3f5f\"},\"type\":\"carpet\"}],\"table\":[{\"cells\":{\"fill\":{\"color\":\"#EBF0F8\"},\"line\":{\"color\":\"white\"}},\"header\":{\"fill\":{\"color\":\"#C8D4E3\"},\"line\":{\"color\":\"white\"}},\"type\":\"table\"}],\"barpolar\":[{\"marker\":{\"line\":{\"color\":\"white\",\"width\":0.5},\"pattern\":{\"fillmode\":\"overlay\",\"size\":10,\"solidity\":0.2}},\"type\":\"barpolar\"}],\"pie\":[{\"automargin\":true,\"type\":\"pie\"}]},\"layout\":{\"autotypenumbers\":\"strict\",\"colorway\":[\"#636efa\",\"#EF553B\",\"#00cc96\",\"#ab63fa\",\"#FFA15A\",\"#19d3f3\",\"#FF6692\",\"#B6E880\",\"#FF97FF\",\"#FECB52\"],\"font\":{\"color\":\"#2a3f5f\"},\"hovermode\":\"closest\",\"hoverlabel\":{\"align\":\"left\"},\"paper_bgcolor\":\"white\",\"plot_bgcolor\":\"white\",\"polar\":{\"bgcolor\":\"white\",\"angularaxis\":{\"gridcolor\":\"#EBF0F8\",\"linecolor\":\"#EBF0F8\",\"ticks\":\"\"},\"radialaxis\":{\"gridcolor\":\"#EBF0F8\",\"linecolor\":\"#EBF0F8\",\"ticks\":\"\"}},\"ternary\":{\"bgcolor\":\"white\",\"aaxis\":{\"gridcolor\":\"#DFE8F3\",\"linecolor\":\"#A2B1C6\",\"ticks\":\"\"},\"baxis\":{\"gridcolor\":\"#DFE8F3\",\"linecolor\":\"#A2B1C6\",\"ticks\":\"\"},\"caxis\":{\"gridcolor\":\"#DFE8F3\",\"linecolor\":\"#A2B1C6\",\"ticks\":\"\"}},\"coloraxis\":{\"colorbar\":{\"outlinewidth\":0,\"ticks\":\"\"}},\"colorscale\":{\"sequential\":[[0.0,\"#0d0887\"],[0.1111111111111111,\"#46039f\"],[0.2222222222222222,\"#7201a8\"],[0.3333333333333333,\"#9c179e\"],[0.4444444444444444,\"#bd3786\"],[0.5555555555555556,\"#d8576b\"],[0.6666666666666666,\"#ed7953\"],[0.7777777777777778,\"#fb9f3a\"],[0.8888888888888888,\"#fdca26\"],[1.0,\"#f0f921\"]],\"sequentialminus\":[[0.0,\"#0d0887\"],[0.1111111111111111,\"#46039f\"],[0.2222222222222222,\"#7201a8\"],[0.3333333333333333,\"#9c179e\"],[0.4444444444444444,\"#bd3786\"],[0.5555555555555556,\"#d8576b\"],[0.6666666666666666,\"#ed7953\"],[0.7777777777777778,\"#fb9f3a\"],[0.8888888888888888,\"#fdca26\"],[1.0,\"#f0f921\"]],\"diverging\":[[0,\"#8e0152\"],[0.1,\"#c51b7d\"],[0.2,\"#de77ae\"],[0.3,\"#f1b6da\"],[0.4,\"#fde0ef\"],[0.5,\"#f7f7f7\"],[0.6,\"#e6f5d0\"],[0.7,\"#b8e186\"],[0.8,\"#7fbc41\"],[0.9,\"#4d9221\"],[1,\"#276419\"]]},\"xaxis\":{\"gridcolor\":\"#EBF0F8\",\"linecolor\":\"#EBF0F8\",\"ticks\":\"\",\"title\":{\"standoff\":15},\"zerolinecolor\":\"#EBF0F8\",\"automargin\":true,\"zerolinewidth\":2},\"yaxis\":{\"gridcolor\":\"#EBF0F8\",\"linecolor\":\"#EBF0F8\",\"ticks\":\"\",\"title\":{\"standoff\":15},\"zerolinecolor\":\"#EBF0F8\",\"automargin\":true,\"zerolinewidth\":2},\"scene\":{\"xaxis\":{\"backgroundcolor\":\"white\",\"gridcolor\":\"#DFE8F3\",\"linecolor\":\"#EBF0F8\",\"showbackground\":true,\"ticks\":\"\",\"zerolinecolor\":\"#EBF0F8\",\"gridwidth\":2},\"yaxis\":{\"backgroundcolor\":\"white\",\"gridcolor\":\"#DFE8F3\",\"linecolor\":\"#EBF0F8\",\"showbackground\":true,\"ticks\":\"\",\"zerolinecolor\":\"#EBF0F8\",\"gridwidth\":2},\"zaxis\":{\"backgroundcolor\":\"white\",\"gridcolor\":\"#DFE8F3\",\"linecolor\":\"#EBF0F8\",\"showbackground\":true,\"ticks\":\"\",\"zerolinecolor\":\"#EBF0F8\",\"gridwidth\":2}},\"shapedefaults\":{\"line\":{\"color\":\"#2a3f5f\"}},\"annotationdefaults\":{\"arrowcolor\":\"#2a3f5f\",\"arrowhead\":0,\"arrowwidth\":1},\"geo\":{\"bgcolor\":\"white\",\"landcolor\":\"white\",\"subunitcolor\":\"#C8D4E3\",\"showland\":true,\"showlakes\":true,\"lakecolor\":\"white\"},\"title\":{\"x\":0.05},\"mapbox\":{\"style\":\"light\"}}},\"title\":{\"text\":\"Customer Behavior\"},\"xaxis\":{\"title\":{\"text\":\"Average Quantity\"}},\"yaxis\":{\"title\":{\"text\":\"Total Spending\"}}},                        {\"responsive\": true}                    ).then(function(){\n",
       "                            \n",
       "var gd = document.getElementById('96585a3c-f4c0-4daa-bb49-633aa811b8d8');\n",
       "var x = new MutationObserver(function (mutations, observer) {{\n",
       "        var display = window.getComputedStyle(gd).display;\n",
       "        if (!display || display === 'none') {{\n",
       "            console.log([gd, 'removed!']);\n",
       "            Plotly.purge(gd);\n",
       "            observer.disconnect();\n",
       "        }}\n",
       "}});\n",
       "\n",
       "// Listen for the removal of the full notebook cells\n",
       "var notebookContainer = gd.closest('#notebook-container');\n",
       "if (notebookContainer) {{\n",
       "    x.observe(notebookContainer, {childList: true});\n",
       "}}\n",
       "\n",
       "// Listen for the clearing of the current output cell\n",
       "var outputEl = gd.closest('.output');\n",
       "if (outputEl) {{\n",
       "    x.observe(outputEl, {childList: true});\n",
       "}}\n",
       "\n",
       "                        })                };                });            </script>        </div>"
      ]
     },
     "metadata": {},
     "output_type": "display_data"
    }
   ],
   "source": [
    "# Create a subplot with a scatter plot and a table\n",
    "fig = go.Figure()\n",
    "\n",
    "# Add a scatter plot\n",
    "fig.add_trace(go.Scatter(x=customer_behavior['Quantity'], y=customer_behavior['Price'],\n",
    "                         mode='markers', text=customer_behavior['CustomerID'],\n",
    "                         marker=dict(size=10, color='coral')))\n",
    "\n",
    "# Add a table\n",
    "fig.add_trace(go.Table(\n",
    "    header=dict(values=['CustomerID', 'Average Quantity', 'Total Spending']),\n",
    "    cells=dict(values=[table_data['CustomerID'], table_data['Average Quantity'], table_data['Total Spending']]),\n",
    "))\n",
    "\n",
    "# Update layout\n",
    "fig.update_layout(title='Customer Behavior',\n",
    "                  xaxis_title='Average Quantity', yaxis_title='Total Spending')\n",
    "\n",
    "# Show the plot\n",
    "fig.show()"
   ]
  },
  {
   "cell_type": "markdown",
   "id": "2f46a4bd-406a-4448-85a1-fee99414f62d",
   "metadata": {},
   "source": [
    "Using Apriori Algorithm:\n",
    "The Apriori algorithm is used to discover frequent item sets in large transactional datasets. It aims to identify items that are frequently purchased together in transactional data. It helps uncover patterns in customer behaviour, allowing businesses to make informed decisions about product placement, promotions, and marketing. "
   ]
  },
  {
   "cell_type": "code",
   "execution_count": 25,
   "id": "e04f166e-edff-4a71-b917-00d6d88215c6",
   "metadata": {},
   "outputs": [
    {
     "name": "stdout",
     "output_type": "stream",
     "text": [
      "Requirement already satisfied: mlxtend in c:\\users\\amogh\\anaconda3\\lib\\site-packages (0.23.4)\n",
      "Requirement already satisfied: scipy>=1.2.1 in c:\\users\\amogh\\anaconda3\\lib\\site-packages (from mlxtend) (1.11.4)\n",
      "Requirement already satisfied: numpy>=1.16.2 in c:\\users\\amogh\\anaconda3\\lib\\site-packages (from mlxtend) (1.26.4)\n",
      "Requirement already satisfied: pandas>=0.24.2 in c:\\users\\amogh\\anaconda3\\lib\\site-packages (from mlxtend) (2.1.4)\n",
      "Requirement already satisfied: scikit-learn>=1.3.1 in c:\\users\\amogh\\anaconda3\\lib\\site-packages (from mlxtend) (1.6.1)\n",
      "Requirement already satisfied: matplotlib>=3.0.0 in c:\\users\\amogh\\anaconda3\\lib\\site-packages (from mlxtend) (3.8.0)\n",
      "Requirement already satisfied: joblib>=0.13.2 in c:\\users\\amogh\\anaconda3\\lib\\site-packages (from mlxtend) (1.2.0)\n",
      "Requirement already satisfied: contourpy>=1.0.1 in c:\\users\\amogh\\anaconda3\\lib\\site-packages (from matplotlib>=3.0.0->mlxtend) (1.2.0)\n",
      "Requirement already satisfied: cycler>=0.10 in c:\\users\\amogh\\anaconda3\\lib\\site-packages (from matplotlib>=3.0.0->mlxtend) (0.11.0)\n",
      "Requirement already satisfied: fonttools>=4.22.0 in c:\\users\\amogh\\anaconda3\\lib\\site-packages (from matplotlib>=3.0.0->mlxtend) (4.25.0)\n",
      "Requirement already satisfied: kiwisolver>=1.0.1 in c:\\users\\amogh\\anaconda3\\lib\\site-packages (from matplotlib>=3.0.0->mlxtend) (1.4.4)\n",
      "Requirement already satisfied: packaging>=20.0 in c:\\users\\amogh\\anaconda3\\lib\\site-packages (from matplotlib>=3.0.0->mlxtend) (23.1)\n",
      "Requirement already satisfied: pillow>=6.2.0 in c:\\users\\amogh\\anaconda3\\lib\\site-packages (from matplotlib>=3.0.0->mlxtend) (10.2.0)\n",
      "Requirement already satisfied: pyparsing>=2.3.1 in c:\\users\\amogh\\anaconda3\\lib\\site-packages (from matplotlib>=3.0.0->mlxtend) (3.0.9)\n",
      "Requirement already satisfied: python-dateutil>=2.7 in c:\\users\\amogh\\anaconda3\\lib\\site-packages (from matplotlib>=3.0.0->mlxtend) (2.8.2)\n",
      "Requirement already satisfied: pytz>=2020.1 in c:\\users\\amogh\\anaconda3\\lib\\site-packages (from pandas>=0.24.2->mlxtend) (2023.3.post1)\n",
      "Requirement already satisfied: tzdata>=2022.1 in c:\\users\\amogh\\anaconda3\\lib\\site-packages (from pandas>=0.24.2->mlxtend) (2023.3)\n",
      "Requirement already satisfied: threadpoolctl>=3.1.0 in c:\\users\\amogh\\anaconda3\\lib\\site-packages (from scikit-learn>=1.3.1->mlxtend) (3.6.0)\n",
      "Requirement already satisfied: six>=1.5 in c:\\users\\amogh\\anaconda3\\lib\\site-packages (from python-dateutil>=2.7->matplotlib>=3.0.0->mlxtend) (1.16.0)\n"
     ]
    }
   ],
   "source": [
    "!pip install mlxtend"
   ]
  },
  {
   "cell_type": "code",
   "execution_count": 26,
   "id": "1b643c50-ee6a-4b86-8734-40b5103fad31",
   "metadata": {},
   "outputs": [
    {
     "name": "stdout",
     "output_type": "stream",
     "text": [
      "Requirement already satisfied: mlxtend in c:\\users\\amogh\\anaconda3\\lib\\site-packages (0.23.4)\n",
      "Requirement already satisfied: scipy>=1.2.1 in c:\\users\\amogh\\anaconda3\\lib\\site-packages (from mlxtend) (1.11.4)\n",
      "Requirement already satisfied: numpy>=1.16.2 in c:\\users\\amogh\\anaconda3\\lib\\site-packages (from mlxtend) (1.26.4)\n",
      "Requirement already satisfied: pandas>=0.24.2 in c:\\users\\amogh\\anaconda3\\lib\\site-packages (from mlxtend) (2.1.4)\n",
      "Requirement already satisfied: scikit-learn>=1.3.1 in c:\\users\\amogh\\anaconda3\\lib\\site-packages (from mlxtend) (1.6.1)\n",
      "Requirement already satisfied: matplotlib>=3.0.0 in c:\\users\\amogh\\anaconda3\\lib\\site-packages (from mlxtend) (3.8.0)\n",
      "Requirement already satisfied: joblib>=0.13.2 in c:\\users\\amogh\\anaconda3\\lib\\site-packages (from mlxtend) (1.2.0)\n",
      "Requirement already satisfied: contourpy>=1.0.1 in c:\\users\\amogh\\anaconda3\\lib\\site-packages (from matplotlib>=3.0.0->mlxtend) (1.2.0)\n",
      "Requirement already satisfied: cycler>=0.10 in c:\\users\\amogh\\anaconda3\\lib\\site-packages (from matplotlib>=3.0.0->mlxtend) (0.11.0)\n",
      "Requirement already satisfied: fonttools>=4.22.0 in c:\\users\\amogh\\anaconda3\\lib\\site-packages (from matplotlib>=3.0.0->mlxtend) (4.25.0)\n",
      "Requirement already satisfied: kiwisolver>=1.0.1 in c:\\users\\amogh\\anaconda3\\lib\\site-packages (from matplotlib>=3.0.0->mlxtend) (1.4.4)\n",
      "Requirement already satisfied: packaging>=20.0 in c:\\users\\amogh\\anaconda3\\lib\\site-packages (from matplotlib>=3.0.0->mlxtend) (23.1)\n",
      "Requirement already satisfied: pillow>=6.2.0 in c:\\users\\amogh\\anaconda3\\lib\\site-packages (from matplotlib>=3.0.0->mlxtend) (10.2.0)\n",
      "Requirement already satisfied: pyparsing>=2.3.1 in c:\\users\\amogh\\anaconda3\\lib\\site-packages (from matplotlib>=3.0.0->mlxtend) (3.0.9)\n",
      "Requirement already satisfied: python-dateutil>=2.7 in c:\\users\\amogh\\anaconda3\\lib\\site-packages (from matplotlib>=3.0.0->mlxtend) (2.8.2)\n",
      "Requirement already satisfied: pytz>=2020.1 in c:\\users\\amogh\\anaconda3\\lib\\site-packages (from pandas>=0.24.2->mlxtend) (2023.3.post1)\n",
      "Requirement already satisfied: tzdata>=2022.1 in c:\\users\\amogh\\anaconda3\\lib\\site-packages (from pandas>=0.24.2->mlxtend) (2023.3)\n",
      "Requirement already satisfied: threadpoolctl>=3.1.0 in c:\\users\\amogh\\anaconda3\\lib\\site-packages (from scikit-learn>=1.3.1->mlxtend) (3.6.0)\n",
      "Requirement already satisfied: six>=1.5 in c:\\users\\amogh\\anaconda3\\lib\\site-packages (from python-dateutil>=2.7->matplotlib>=3.0.0->mlxtend) (1.16.0)\n",
      "Note: you may need to restart the kernel to use updated packages.\n"
     ]
    }
   ],
   "source": [
    "pip install mlxtend\n"
   ]
  },
  {
   "cell_type": "code",
   "execution_count": 28,
   "id": "cd1323a6-99f7-4ef2-bf32-5e081461560b",
   "metadata": {},
   "outputs": [],
   "source": [
    "import warnings\n",
    "warnings.filterwarnings(\"ignore\", category=DeprecationWarning)\n"
   ]
  },
  {
   "cell_type": "code",
   "execution_count": 29,
   "id": "e1ce6610-6e8d-4822-b5a4-a227c7a1cdc9",
   "metadata": {},
   "outputs": [
    {
     "name": "stdout",
     "output_type": "stream",
     "text": [
      "      antecedents                                        consequents  \\\n",
      "0         (Bread)                                           (Apples)   \n",
      "1        (Apples)                                            (Bread)   \n",
      "2        (Butter)                                           (Apples)   \n",
      "3        (Apples)                                           (Butter)   \n",
      "4        (Cereal)                                           (Apples)   \n",
      "...           ...                                                ...   \n",
      "18487    (Cereal)   (Oranges, Juice, Bread, Chicken, Butter, Coffee)   \n",
      "18488     (Bread)  (Oranges, Juice, Cereal, Chicken, Butter, Coffee)   \n",
      "18489   (Chicken)    (Oranges, Juice, Cereal, Bread, Butter, Coffee)   \n",
      "18490    (Butter)   (Oranges, Juice, Cereal, Bread, Chicken, Coffee)   \n",
      "18491    (Coffee)   (Oranges, Juice, Cereal, Bread, Chicken, Butter)   \n",
      "\n",
      "        support  confidence      lift  \n",
      "0      0.045752    0.304348  1.862609  \n",
      "1      0.045752    0.280000  1.862609  \n",
      "2      0.026144    0.160000  0.979200  \n",
      "3      0.026144    0.160000  0.979200  \n",
      "4      0.019608    0.096774  0.592258  \n",
      "...         ...         ...       ...  \n",
      "18487  0.013072    0.064516  4.935484  \n",
      "18488  0.013072    0.086957  6.652174  \n",
      "18489  0.013072    0.100000  7.650000  \n",
      "18490  0.013072    0.080000  6.120000  \n",
      "18491  0.013072    0.060606  4.636364  \n",
      "\n",
      "[18492 rows x 5 columns]\n"
     ]
    }
   ],
   "source": [
    "from mlxtend.frequent_patterns import apriori, association_rules\n",
    "\n",
    "# Group items by BillNo and create a list of items for each bill\n",
    "basket = data.groupby('BillNo')['Itemname'].apply(list).reset_index()\n",
    "\n",
    "# Encode items as binary variables using one-hot encoding\n",
    "basket_encoded = basket['Itemname'].str.join('|').str.get_dummies('|')\n",
    "\n",
    "# Find frequent itemsets using Apriori algorithm with lower support\n",
    "frequent_itemsets = apriori(basket_encoded, min_support=0.01, use_colnames=True)\n",
    "\n",
    "# Generate association rules with lower lift threshold\n",
    "rules = association_rules(frequent_itemsets, metric='lift', min_threshold=0.5)\n",
    "\n",
    "# Display key columns of association rules\n",
    "print(rules[['antecedents', 'consequents', 'support', 'confidence', 'lift']])\n"
   ]
  },
  {
   "cell_type": "markdown",
   "id": "52d3dc7b-27f5-4b5a-8750-809334fda7a6",
   "metadata": {},
   "source": [
    "Antecedents: These are the items that are considered as the starting point or “if” part of the association rule. For example, Bread, Butter, Cereal, Cheese, and Chicken are the antecedents in this analysis.\n",
    "Consequents: These are the items that tend to be purchased along with the antecedents or the “then” part of the association rule.\n",
    "Support: Support measures how frequently a particular combination of items (both antecedents and consequents) appears in the dataset. It is essentially the proportion of transactions in which the items are bought together. For example, the first rule indicates that Bread and Apples are bought together in approximately 4.58% of all transactions.\n",
    "Confidence: Confidence quantifies the likelihood of the consequent item being purchased when the antecedent item is already in the basket. In other words, it shows the probability of buying the consequent item when the antecedent item is bought. For example, the first rule tells us that there is a 30.43% chance of buying Apples when Bread is already in the basket.\n",
    "Lift: Lift measures the degree of association between the antecedent and consequent items, while considering the baseline purchase probability of the consequent item. A lift value greater than 1 indicates a positive association, meaning that the items are more likely to be bought together than independently. A value less than 1 indicates a negative association. For example, the first rule has a lift of approximately 1.86, suggesting a positive association between Bread and Apples."
   ]
  },
  {
   "cell_type": "code",
   "execution_count": null,
   "id": "399f586c-f3ff-4468-b9f8-a0ad96428b7e",
   "metadata": {},
   "outputs": [],
   "source": []
  }
 ],
 "metadata": {
  "kernelspec": {
   "display_name": "Python 3 (ipykernel)",
   "language": "python",
   "name": "python3"
  },
  "language_info": {
   "codemirror_mode": {
    "name": "ipython",
    "version": 3
   },
   "file_extension": ".py",
   "mimetype": "text/x-python",
   "name": "python",
   "nbconvert_exporter": "python",
   "pygments_lexer": "ipython3",
   "version": "3.11.7"
  }
 },
 "nbformat": 4,
 "nbformat_minor": 5
}
